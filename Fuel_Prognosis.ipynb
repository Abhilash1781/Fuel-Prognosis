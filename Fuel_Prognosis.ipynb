{
 "cells": [
  {
   "cell_type": "markdown",
   "id": "FmkjL3bfMIWL",
   "metadata": {
    "id": "FmkjL3bfMIWL"
   },
   "source": [
    "# **Fuel Consumption prediction of 2022 car models**"
   ]
  },
  {
   "cell_type": "markdown",
   "id": "E25G5KxMMQha",
   "metadata": {
    "id": "E25G5KxMMQha"
   },
   "source": [
    "# Import necessary libraries"
   ]
  },
  {
   "cell_type": "code",
   "execution_count": 51,
   "id": "81e1d46a",
   "metadata": {
    "ExecuteTime": {
     "end_time": "2023-04-13T10:51:27.702787Z",
     "start_time": "2023-04-13T10:51:25.255684Z"
    },
    "id": "81e1d46a"
   },
   "outputs": [],
   "source": [
    "import pandas as pd\n",
    "import numpy as np\n",
    "import matplotlib.pyplot as plt\n",
    "import seaborn as sns\n",
    "import sys\n",
    "import warnings\n",
    "if not sys.warnoptions:\n",
    "    warnings.simplefilter(\"ignore\")\n",
    "\n",
    "from sklearn.preprocessing import OrdinalEncoder\n",
    "from sklearn.model_selection import train_test_split\n",
    "from sklearn.preprocessing import StandardScaler\n",
    "from sklearn.metrics import mean_absolute_error, mean_squared_error\n",
    "from sklearn.linear_model import LinearRegression\n",
    "from sklearn.metrics import r2_score\n",
    "from sklearn.tree import DecisionTreeRegressor\n",
    "from sklearn import tree\n",
    "from sklearn.ensemble import RandomForestRegressor\n",
    "from xgboost import XGBRegressor\n",
    "from lightgbm import LGBMRegressor"
   ]
  },
  {
   "cell_type": "markdown",
   "id": "tvAB1IbLMeMy",
   "metadata": {
    "id": "tvAB1IbLMeMy"
   },
   "source": [
    "# Import Dataset"
   ]
  },
  {
   "cell_type": "code",
   "execution_count": 2,
   "id": "57f4ca49",
   "metadata": {
    "ExecuteTime": {
     "end_time": "2023-04-13T10:51:29.913368Z",
     "start_time": "2023-04-13T10:51:29.872476Z"
    },
    "id": "57f4ca49",
    "outputId": "27d2a125-38db-49b4-aa6c-33eecbee6bf1"
   },
   "outputs": [
    {
     "data": {
      "text/html": [
       "<div>\n",
       "<style scoped>\n",
       "    .dataframe tbody tr th:only-of-type {\n",
       "        vertical-align: middle;\n",
       "    }\n",
       "\n",
       "    .dataframe tbody tr th {\n",
       "        vertical-align: top;\n",
       "    }\n",
       "\n",
       "    .dataframe thead th {\n",
       "        text-align: right;\n",
       "    }\n",
       "</style>\n",
       "<table border=\"1\" class=\"dataframe\">\n",
       "  <thead>\n",
       "    <tr style=\"text-align: right;\">\n",
       "      <th></th>\n",
       "      <th>Model Year</th>\n",
       "      <th>Make</th>\n",
       "      <th>Model</th>\n",
       "      <th>Vehicle Class</th>\n",
       "      <th>Engine Size(L)</th>\n",
       "      <th>Cylinders</th>\n",
       "      <th>Transmission</th>\n",
       "      <th>Fuel Type</th>\n",
       "      <th>Fuel Consumption (City (L/100 km)</th>\n",
       "      <th>Fuel Consumption(Hwy (L/100 km))</th>\n",
       "      <th>Fuel Consumption(Comb (L/100 km))</th>\n",
       "      <th>Fuel Consumption(Comb (mpg))</th>\n",
       "      <th>CO2 Emissions(g/km)</th>\n",
       "      <th>CO2 Rating</th>\n",
       "      <th>Smog Rating</th>\n",
       "    </tr>\n",
       "  </thead>\n",
       "  <tbody>\n",
       "    <tr>\n",
       "      <th>0</th>\n",
       "      <td>2022</td>\n",
       "      <td>Acura</td>\n",
       "      <td>ILX</td>\n",
       "      <td>Compact</td>\n",
       "      <td>2.4</td>\n",
       "      <td>4</td>\n",
       "      <td>AM8</td>\n",
       "      <td>Z</td>\n",
       "      <td>NaN</td>\n",
       "      <td>7.0</td>\n",
       "      <td>8.6</td>\n",
       "      <td>33.0</td>\n",
       "      <td>200.0</td>\n",
       "      <td>6.0</td>\n",
       "      <td>3.0</td>\n",
       "    </tr>\n",
       "    <tr>\n",
       "      <th>1</th>\n",
       "      <td>2022</td>\n",
       "      <td>Acura</td>\n",
       "      <td>MDX SH-AWD</td>\n",
       "      <td>SUV: Small</td>\n",
       "      <td>3.5</td>\n",
       "      <td>6</td>\n",
       "      <td>AS10</td>\n",
       "      <td>Z</td>\n",
       "      <td>12.6</td>\n",
       "      <td>9.4</td>\n",
       "      <td>11.2</td>\n",
       "      <td>25.0</td>\n",
       "      <td>263.0</td>\n",
       "      <td>4.0</td>\n",
       "      <td>5.0</td>\n",
       "    </tr>\n",
       "    <tr>\n",
       "      <th>2</th>\n",
       "      <td>2022</td>\n",
       "      <td>Acura</td>\n",
       "      <td>RDX SH-AWD</td>\n",
       "      <td>SUV: Small</td>\n",
       "      <td>2.0</td>\n",
       "      <td>4</td>\n",
       "      <td>AS10</td>\n",
       "      <td>Z</td>\n",
       "      <td>11.0</td>\n",
       "      <td>8.6</td>\n",
       "      <td>9.9</td>\n",
       "      <td>29.0</td>\n",
       "      <td>232.0</td>\n",
       "      <td>5.0</td>\n",
       "      <td>6.0</td>\n",
       "    </tr>\n",
       "    <tr>\n",
       "      <th>3</th>\n",
       "      <td>2022</td>\n",
       "      <td>Acura</td>\n",
       "      <td>RDX SH-AWD A-SPEC</td>\n",
       "      <td>SUV: Small</td>\n",
       "      <td>2.0</td>\n",
       "      <td>4</td>\n",
       "      <td>AS10</td>\n",
       "      <td>Z</td>\n",
       "      <td>11.3</td>\n",
       "      <td>9.1</td>\n",
       "      <td>10.3</td>\n",
       "      <td>27.0</td>\n",
       "      <td>242.0</td>\n",
       "      <td>5.0</td>\n",
       "      <td>6.0</td>\n",
       "    </tr>\n",
       "    <tr>\n",
       "      <th>4</th>\n",
       "      <td>2022</td>\n",
       "      <td>Acura</td>\n",
       "      <td>TLX SH-AWD</td>\n",
       "      <td>Compact</td>\n",
       "      <td>2.0</td>\n",
       "      <td>4</td>\n",
       "      <td>AS10</td>\n",
       "      <td>Z</td>\n",
       "      <td>11.2</td>\n",
       "      <td>8.0</td>\n",
       "      <td>9.8</td>\n",
       "      <td>29.0</td>\n",
       "      <td>230.0</td>\n",
       "      <td>5.0</td>\n",
       "      <td>7.0</td>\n",
       "    </tr>\n",
       "  </tbody>\n",
       "</table>\n",
       "</div>"
      ],
      "text/plain": [
       "   Model Year   Make              Model Vehicle Class  Engine Size(L)  \\\n",
       "0        2022  Acura                ILX       Compact             2.4   \n",
       "1        2022  Acura         MDX SH-AWD    SUV: Small             3.5   \n",
       "2        2022  Acura         RDX SH-AWD    SUV: Small             2.0   \n",
       "3        2022  Acura  RDX SH-AWD A-SPEC    SUV: Small             2.0   \n",
       "4        2022  Acura         TLX SH-AWD       Compact             2.0   \n",
       "\n",
       "   Cylinders Transmission Fuel Type  Fuel Consumption (City (L/100 km)  \\\n",
       "0          4          AM8         Z                                NaN   \n",
       "1          6         AS10         Z                               12.6   \n",
       "2          4         AS10         Z                               11.0   \n",
       "3          4         AS10         Z                               11.3   \n",
       "4          4         AS10         Z                               11.2   \n",
       "\n",
       "   Fuel Consumption(Hwy (L/100 km))  Fuel Consumption(Comb (L/100 km))  \\\n",
       "0                               7.0                                8.6   \n",
       "1                               9.4                               11.2   \n",
       "2                               8.6                                9.9   \n",
       "3                               9.1                               10.3   \n",
       "4                               8.0                                9.8   \n",
       "\n",
       "   Fuel Consumption(Comb (mpg))  CO2 Emissions(g/km)  CO2 Rating  Smog Rating  \n",
       "0                          33.0                200.0         6.0          3.0  \n",
       "1                          25.0                263.0         4.0          5.0  \n",
       "2                          29.0                232.0         5.0          6.0  \n",
       "3                          27.0                242.0         5.0          6.0  \n",
       "4                          29.0                230.0         5.0          7.0  "
      ]
     },
     "execution_count": 2,
     "metadata": {},
     "output_type": "execute_result"
    }
   ],
   "source": [
    "data = pd.read_csv(\"2022_Cars.csv\")\n",
    "data.head()"
   ]
  },
  {
   "cell_type": "code",
   "execution_count": 3,
   "id": "04c1fb91",
   "metadata": {
    "ExecuteTime": {
     "end_time": "2023-04-13T10:51:31.526983Z",
     "start_time": "2023-04-13T10:51:31.503044Z"
    },
    "id": "04c1fb91",
    "outputId": "d2da8258-c6e5-41bd-e176-30eaf25aa2d5"
   },
   "outputs": [
    {
     "name": "stdout",
     "output_type": "stream",
     "text": [
      "<class 'pandas.core.frame.DataFrame'>\n",
      "RangeIndex: 945 entries, 0 to 944\n",
      "Data columns (total 15 columns):\n",
      " #   Column                             Non-Null Count  Dtype  \n",
      "---  ------                             --------------  -----  \n",
      " 0   Model Year                         945 non-null    int64  \n",
      " 1   Make                               945 non-null    object \n",
      " 2   Model                              945 non-null    object \n",
      " 3   Vehicle Class                      945 non-null    object \n",
      " 4   Engine Size(L)                     945 non-null    float64\n",
      " 5   Cylinders                          945 non-null    int64  \n",
      " 6   Transmission                       945 non-null    object \n",
      " 7   Fuel Type                          944 non-null    object \n",
      " 8   Fuel Consumption (City (L/100 km)  931 non-null    float64\n",
      " 9   Fuel Consumption(Hwy (L/100 km))   930 non-null    float64\n",
      " 10  Fuel Consumption(Comb (L/100 km))  945 non-null    float64\n",
      " 11  Fuel Consumption(Comb (mpg))       931 non-null    float64\n",
      " 12  CO2 Emissions(g/km)                934 non-null    float64\n",
      " 13  CO2 Rating                         932 non-null    float64\n",
      " 14  Smog Rating                        927 non-null    float64\n",
      "dtypes: float64(8), int64(2), object(5)\n",
      "memory usage: 110.9+ KB\n"
     ]
    }
   ],
   "source": [
    "data.info()"
   ]
  },
  {
   "cell_type": "markdown",
   "id": "FR1P2tVDMjEK",
   "metadata": {
    "id": "FR1P2tVDMjEK"
   },
   "source": [
    "# Data Pre-processing"
   ]
  },
  {
   "cell_type": "code",
   "execution_count": 4,
   "id": "c1b943ed",
   "metadata": {
    "ExecuteTime": {
     "end_time": "2023-04-13T10:52:33.277905Z",
     "start_time": "2023-04-13T10:52:33.272919Z"
    },
    "id": "c1b943ed"
   },
   "outputs": [],
   "source": [
    "df= data.drop(['Model Year','Make','Model','Fuel Consumption (City (L/100 km)','Fuel Consumption(Hwy (L/100 km))','Fuel Consumption(Comb (mpg))','CO2 Emissions(g/km)','Smog Rating'],axis=1)"
   ]
  },
  {
   "cell_type": "code",
   "execution_count": 5,
   "id": "0d083c7c",
   "metadata": {
    "ExecuteTime": {
     "end_time": "2023-04-13T10:52:33.915982Z",
     "start_time": "2023-04-13T10:52:33.904014Z"
    },
    "id": "0d083c7c",
    "outputId": "f733d33d-7a6b-4779-e39a-546d87f633e3"
   },
   "outputs": [
    {
     "data": {
      "text/html": [
       "<div>\n",
       "<style scoped>\n",
       "    .dataframe tbody tr th:only-of-type {\n",
       "        vertical-align: middle;\n",
       "    }\n",
       "\n",
       "    .dataframe tbody tr th {\n",
       "        vertical-align: top;\n",
       "    }\n",
       "\n",
       "    .dataframe thead th {\n",
       "        text-align: right;\n",
       "    }\n",
       "</style>\n",
       "<table border=\"1\" class=\"dataframe\">\n",
       "  <thead>\n",
       "    <tr style=\"text-align: right;\">\n",
       "      <th></th>\n",
       "      <th>Vehicle Class</th>\n",
       "      <th>Engine Size(L)</th>\n",
       "      <th>Cylinders</th>\n",
       "      <th>Transmission</th>\n",
       "      <th>Fuel Type</th>\n",
       "      <th>Fuel Consumption(Comb (L/100 km))</th>\n",
       "      <th>CO2 Rating</th>\n",
       "    </tr>\n",
       "  </thead>\n",
       "  <tbody>\n",
       "    <tr>\n",
       "      <th>0</th>\n",
       "      <td>Compact</td>\n",
       "      <td>2.4</td>\n",
       "      <td>4</td>\n",
       "      <td>AM8</td>\n",
       "      <td>Z</td>\n",
       "      <td>8.6</td>\n",
       "      <td>6.0</td>\n",
       "    </tr>\n",
       "    <tr>\n",
       "      <th>1</th>\n",
       "      <td>SUV: Small</td>\n",
       "      <td>3.5</td>\n",
       "      <td>6</td>\n",
       "      <td>AS10</td>\n",
       "      <td>Z</td>\n",
       "      <td>11.2</td>\n",
       "      <td>4.0</td>\n",
       "    </tr>\n",
       "    <tr>\n",
       "      <th>2</th>\n",
       "      <td>SUV: Small</td>\n",
       "      <td>2.0</td>\n",
       "      <td>4</td>\n",
       "      <td>AS10</td>\n",
       "      <td>Z</td>\n",
       "      <td>9.9</td>\n",
       "      <td>5.0</td>\n",
       "    </tr>\n",
       "    <tr>\n",
       "      <th>3</th>\n",
       "      <td>SUV: Small</td>\n",
       "      <td>2.0</td>\n",
       "      <td>4</td>\n",
       "      <td>AS10</td>\n",
       "      <td>Z</td>\n",
       "      <td>10.3</td>\n",
       "      <td>5.0</td>\n",
       "    </tr>\n",
       "    <tr>\n",
       "      <th>4</th>\n",
       "      <td>Compact</td>\n",
       "      <td>2.0</td>\n",
       "      <td>4</td>\n",
       "      <td>AS10</td>\n",
       "      <td>Z</td>\n",
       "      <td>9.8</td>\n",
       "      <td>5.0</td>\n",
       "    </tr>\n",
       "    <tr>\n",
       "      <th>...</th>\n",
       "      <td>...</td>\n",
       "      <td>...</td>\n",
       "      <td>...</td>\n",
       "      <td>...</td>\n",
       "      <td>...</td>\n",
       "      <td>...</td>\n",
       "      <td>...</td>\n",
       "    </tr>\n",
       "    <tr>\n",
       "      <th>940</th>\n",
       "      <td>SUV: Small</td>\n",
       "      <td>2.0</td>\n",
       "      <td>4</td>\n",
       "      <td>AS8</td>\n",
       "      <td>Z</td>\n",
       "      <td>9.4</td>\n",
       "      <td>5.0</td>\n",
       "    </tr>\n",
       "    <tr>\n",
       "      <th>941</th>\n",
       "      <td>SUV: Small</td>\n",
       "      <td>2.0</td>\n",
       "      <td>4</td>\n",
       "      <td>AS8</td>\n",
       "      <td>Z</td>\n",
       "      <td>9.4</td>\n",
       "      <td>5.0</td>\n",
       "    </tr>\n",
       "    <tr>\n",
       "      <th>942</th>\n",
       "      <td>SUV: Small</td>\n",
       "      <td>2.0</td>\n",
       "      <td>4</td>\n",
       "      <td>AS8</td>\n",
       "      <td>Z</td>\n",
       "      <td>9.9</td>\n",
       "      <td>5.0</td>\n",
       "    </tr>\n",
       "    <tr>\n",
       "      <th>943</th>\n",
       "      <td>SUV: Standard</td>\n",
       "      <td>2.0</td>\n",
       "      <td>4</td>\n",
       "      <td>AS8</td>\n",
       "      <td>Z</td>\n",
       "      <td>10.1</td>\n",
       "      <td>5.0</td>\n",
       "    </tr>\n",
       "    <tr>\n",
       "      <th>944</th>\n",
       "      <td>SUV: Standard</td>\n",
       "      <td>2.0</td>\n",
       "      <td>4</td>\n",
       "      <td>AS8</td>\n",
       "      <td>Z</td>\n",
       "      <td>10.8</td>\n",
       "      <td>5.0</td>\n",
       "    </tr>\n",
       "  </tbody>\n",
       "</table>\n",
       "<p>945 rows × 7 columns</p>\n",
       "</div>"
      ],
      "text/plain": [
       "     Vehicle Class  Engine Size(L)  Cylinders Transmission Fuel Type  \\\n",
       "0          Compact             2.4          4          AM8         Z   \n",
       "1       SUV: Small             3.5          6         AS10         Z   \n",
       "2       SUV: Small             2.0          4         AS10         Z   \n",
       "3       SUV: Small             2.0          4         AS10         Z   \n",
       "4          Compact             2.0          4         AS10         Z   \n",
       "..             ...             ...        ...          ...       ...   \n",
       "940     SUV: Small             2.0          4          AS8         Z   \n",
       "941     SUV: Small             2.0          4          AS8         Z   \n",
       "942     SUV: Small             2.0          4          AS8         Z   \n",
       "943  SUV: Standard             2.0          4          AS8         Z   \n",
       "944  SUV: Standard             2.0          4          AS8         Z   \n",
       "\n",
       "     Fuel Consumption(Comb (L/100 km))  CO2 Rating  \n",
       "0                                  8.6         6.0  \n",
       "1                                 11.2         4.0  \n",
       "2                                  9.9         5.0  \n",
       "3                                 10.3         5.0  \n",
       "4                                  9.8         5.0  \n",
       "..                                 ...         ...  \n",
       "940                                9.4         5.0  \n",
       "941                                9.4         5.0  \n",
       "942                                9.9         5.0  \n",
       "943                               10.1         5.0  \n",
       "944                               10.8         5.0  \n",
       "\n",
       "[945 rows x 7 columns]"
      ]
     },
     "execution_count": 5,
     "metadata": {},
     "output_type": "execute_result"
    }
   ],
   "source": [
    "df"
   ]
  },
  {
   "cell_type": "code",
   "execution_count": 6,
   "id": "57cf3a0b",
   "metadata": {
    "ExecuteTime": {
     "end_time": "2023-04-13T10:52:35.941552Z",
     "start_time": "2023-04-13T10:52:35.926594Z"
    },
    "id": "57cf3a0b"
   },
   "outputs": [],
   "source": [
    "df = df.rename(columns = {'Engine Size(L)':'Engine Size', 'Fuel Consumption(Comb (L/100 km))':'Fuel Consumption'})"
   ]
  },
  {
   "cell_type": "code",
   "execution_count": 7,
   "id": "520f5fc1",
   "metadata": {
    "ExecuteTime": {
     "end_time": "2023-04-13T10:52:36.883204Z",
     "start_time": "2023-04-13T10:52:36.864253Z"
    },
    "id": "520f5fc1",
    "outputId": "820b1fd8-d20a-40d2-b960-e559b0e9a836"
   },
   "outputs": [
    {
     "data": {
      "text/plain": [
       "Vehicle Class        0\n",
       "Engine Size          0\n",
       "Cylinders            0\n",
       "Transmission         0\n",
       "Fuel Type            1\n",
       "Fuel Consumption     0\n",
       "CO2 Rating          13\n",
       "dtype: int64"
      ]
     },
     "execution_count": 7,
     "metadata": {},
     "output_type": "execute_result"
    }
   ],
   "source": [
    "df.isna().sum()"
   ]
  },
  {
   "cell_type": "code",
   "execution_count": 8,
   "id": "f322321a",
   "metadata": {
    "ExecuteTime": {
     "end_time": "2023-04-13T10:52:38.121682Z",
     "start_time": "2023-04-13T10:52:38.111708Z"
    },
    "id": "f322321a"
   },
   "outputs": [],
   "source": [
    "df['Fuel Type'].fillna((df['Fuel Type'].mode()[0]), inplace=True)"
   ]
  },
  {
   "cell_type": "code",
   "execution_count": 9,
   "id": "3f0ec3bb",
   "metadata": {
    "ExecuteTime": {
     "end_time": "2023-04-13T10:52:38.400426Z",
     "start_time": "2023-04-13T10:52:38.392472Z"
    },
    "id": "3f0ec3bb",
    "outputId": "68bb9bf8-bf76-4cba-c2e1-ddd2461695e7"
   },
   "outputs": [
    {
     "data": {
      "text/html": [
       "<div>\n",
       "<style scoped>\n",
       "    .dataframe tbody tr th:only-of-type {\n",
       "        vertical-align: middle;\n",
       "    }\n",
       "\n",
       "    .dataframe tbody tr th {\n",
       "        vertical-align: top;\n",
       "    }\n",
       "\n",
       "    .dataframe thead th {\n",
       "        text-align: right;\n",
       "    }\n",
       "</style>\n",
       "<table border=\"1\" class=\"dataframe\">\n",
       "  <thead>\n",
       "    <tr style=\"text-align: right;\">\n",
       "      <th></th>\n",
       "      <th>Vehicle Class</th>\n",
       "      <th>Engine Size</th>\n",
       "      <th>Cylinders</th>\n",
       "      <th>Transmission</th>\n",
       "      <th>Fuel Type</th>\n",
       "      <th>Fuel Consumption</th>\n",
       "      <th>CO2 Rating</th>\n",
       "    </tr>\n",
       "  </thead>\n",
       "  <tbody>\n",
       "    <tr>\n",
       "      <th>0</th>\n",
       "      <td>Compact</td>\n",
       "      <td>2.4</td>\n",
       "      <td>4</td>\n",
       "      <td>AM8</td>\n",
       "      <td>Z</td>\n",
       "      <td>8.6</td>\n",
       "      <td>6.0</td>\n",
       "    </tr>\n",
       "    <tr>\n",
       "      <th>1</th>\n",
       "      <td>SUV: Small</td>\n",
       "      <td>3.5</td>\n",
       "      <td>6</td>\n",
       "      <td>AS10</td>\n",
       "      <td>Z</td>\n",
       "      <td>11.2</td>\n",
       "      <td>4.0</td>\n",
       "    </tr>\n",
       "    <tr>\n",
       "      <th>2</th>\n",
       "      <td>SUV: Small</td>\n",
       "      <td>2.0</td>\n",
       "      <td>4</td>\n",
       "      <td>AS10</td>\n",
       "      <td>Z</td>\n",
       "      <td>9.9</td>\n",
       "      <td>5.0</td>\n",
       "    </tr>\n",
       "    <tr>\n",
       "      <th>3</th>\n",
       "      <td>SUV: Small</td>\n",
       "      <td>2.0</td>\n",
       "      <td>4</td>\n",
       "      <td>AS10</td>\n",
       "      <td>Z</td>\n",
       "      <td>10.3</td>\n",
       "      <td>5.0</td>\n",
       "    </tr>\n",
       "    <tr>\n",
       "      <th>4</th>\n",
       "      <td>Compact</td>\n",
       "      <td>2.0</td>\n",
       "      <td>4</td>\n",
       "      <td>AS10</td>\n",
       "      <td>Z</td>\n",
       "      <td>9.8</td>\n",
       "      <td>5.0</td>\n",
       "    </tr>\n",
       "  </tbody>\n",
       "</table>\n",
       "</div>"
      ],
      "text/plain": [
       "  Vehicle Class  Engine Size  Cylinders Transmission Fuel Type  \\\n",
       "0       Compact          2.4          4          AM8         Z   \n",
       "1    SUV: Small          3.5          6         AS10         Z   \n",
       "2    SUV: Small          2.0          4         AS10         Z   \n",
       "3    SUV: Small          2.0          4         AS10         Z   \n",
       "4       Compact          2.0          4         AS10         Z   \n",
       "\n",
       "   Fuel Consumption  CO2 Rating  \n",
       "0               8.6         6.0  \n",
       "1              11.2         4.0  \n",
       "2               9.9         5.0  \n",
       "3              10.3         5.0  \n",
       "4               9.8         5.0  "
      ]
     },
     "execution_count": 9,
     "metadata": {},
     "output_type": "execute_result"
    }
   ],
   "source": [
    "df.head()"
   ]
  },
  {
   "cell_type": "code",
   "execution_count": 10,
   "id": "fe2b1efc",
   "metadata": {
    "ExecuteTime": {
     "end_time": "2023-04-13T10:52:39.205832Z",
     "start_time": "2023-04-13T10:52:39.198851Z"
    },
    "id": "fe2b1efc",
    "outputId": "c711573e-87b5-4ed6-d5ab-96b50a4e53af"
   },
   "outputs": [
    {
     "data": {
      "text/html": [
       "<div>\n",
       "<style scoped>\n",
       "    .dataframe tbody tr th:only-of-type {\n",
       "        vertical-align: middle;\n",
       "    }\n",
       "\n",
       "    .dataframe tbody tr th {\n",
       "        vertical-align: top;\n",
       "    }\n",
       "\n",
       "    .dataframe thead th {\n",
       "        text-align: right;\n",
       "    }\n",
       "</style>\n",
       "<table border=\"1\" class=\"dataframe\">\n",
       "  <thead>\n",
       "    <tr style=\"text-align: right;\">\n",
       "      <th></th>\n",
       "      <th>Fuel Consumption</th>\n",
       "      <th>CO2 Rating</th>\n",
       "    </tr>\n",
       "  </thead>\n",
       "  <tbody>\n",
       "    <tr>\n",
       "      <th>Fuel Consumption</th>\n",
       "      <td>1.00000</td>\n",
       "      <td>-0.92762</td>\n",
       "    </tr>\n",
       "    <tr>\n",
       "      <th>CO2 Rating</th>\n",
       "      <td>-0.92762</td>\n",
       "      <td>1.00000</td>\n",
       "    </tr>\n",
       "  </tbody>\n",
       "</table>\n",
       "</div>"
      ],
      "text/plain": [
       "                  Fuel Consumption  CO2 Rating\n",
       "Fuel Consumption           1.00000    -0.92762\n",
       "CO2 Rating                -0.92762     1.00000"
      ]
     },
     "execution_count": 10,
     "metadata": {},
     "output_type": "execute_result"
    }
   ],
   "source": [
    "df[['Fuel Consumption','CO2 Rating']].corr()"
   ]
  },
  {
   "cell_type": "code",
   "execution_count": 11,
   "id": "79a59d76",
   "metadata": {
    "ExecuteTime": {
     "end_time": "2023-03-27T07:53:07.818560Z",
     "start_time": "2023-03-27T07:53:07.806592Z"
    },
    "id": "79a59d76",
    "outputId": "359e3ed2-a546-4cc4-f2bb-a19d50003b9a"
   },
   "outputs": [
    {
     "data": {
      "text/html": [
       "<div>\n",
       "<style scoped>\n",
       "    .dataframe tbody tr th:only-of-type {\n",
       "        vertical-align: middle;\n",
       "    }\n",
       "\n",
       "    .dataframe tbody tr th {\n",
       "        vertical-align: top;\n",
       "    }\n",
       "\n",
       "    .dataframe thead th {\n",
       "        text-align: right;\n",
       "    }\n",
       "</style>\n",
       "<table border=\"1\" class=\"dataframe\">\n",
       "  <thead>\n",
       "    <tr style=\"text-align: right;\">\n",
       "      <th></th>\n",
       "      <th>Fuel Consumption</th>\n",
       "    </tr>\n",
       "    <tr>\n",
       "      <th>CO2 Rating</th>\n",
       "      <th></th>\n",
       "    </tr>\n",
       "  </thead>\n",
       "  <tbody>\n",
       "    <tr>\n",
       "      <th>1.0</th>\n",
       "      <td>21.5</td>\n",
       "    </tr>\n",
       "    <tr>\n",
       "      <th>2.0</th>\n",
       "      <td>16.0</td>\n",
       "    </tr>\n",
       "    <tr>\n",
       "      <th>3.0</th>\n",
       "      <td>13.9</td>\n",
       "    </tr>\n",
       "    <tr>\n",
       "      <th>4.0</th>\n",
       "      <td>11.7</td>\n",
       "    </tr>\n",
       "    <tr>\n",
       "      <th>5.0</th>\n",
       "      <td>9.9</td>\n",
       "    </tr>\n",
       "    <tr>\n",
       "      <th>6.0</th>\n",
       "      <td>8.3</td>\n",
       "    </tr>\n",
       "    <tr>\n",
       "      <th>7.0</th>\n",
       "      <td>7.3</td>\n",
       "    </tr>\n",
       "    <tr>\n",
       "      <th>8.0</th>\n",
       "      <td>6.0</td>\n",
       "    </tr>\n",
       "    <tr>\n",
       "      <th>9.0</th>\n",
       "      <td>4.8</td>\n",
       "    </tr>\n",
       "    <tr>\n",
       "      <th>10.0</th>\n",
       "      <td>4.0</td>\n",
       "    </tr>\n",
       "  </tbody>\n",
       "</table>\n",
       "</div>"
      ],
      "text/plain": [
       "            Fuel Consumption\n",
       "CO2 Rating                  \n",
       "1.0                     21.5\n",
       "2.0                     16.0\n",
       "3.0                     13.9\n",
       "4.0                     11.7\n",
       "5.0                      9.9\n",
       "6.0                      8.3\n",
       "7.0                      7.3\n",
       "8.0                      6.0\n",
       "9.0                      4.8\n",
       "10.0                     4.0"
      ]
     },
     "execution_count": 11,
     "metadata": {},
     "output_type": "execute_result"
    }
   ],
   "source": [
    "df[['Fuel Consumption','CO2 Rating']].groupby('CO2 Rating').median()"
   ]
  },
  {
   "cell_type": "code",
   "execution_count": 12,
   "id": "56471e18",
   "metadata": {
    "ExecuteTime": {
     "end_time": "2023-03-27T07:53:08.972789Z",
     "start_time": "2023-03-27T07:53:08.950330Z"
    },
    "id": "56471e18"
   },
   "outputs": [],
   "source": [
    "df['CO2 Rating'].fillna(0,inplace=True)\n",
    "new_ratting = []\n",
    "\n",
    "for fuel,co2 in zip(df['Fuel Consumption'], df['CO2 Rating']):\n",
    "    co2_ratings_mapping = {\n",
    "    (20, float('inf')): 1,\n",
    "    (16, 20): 2,\n",
    "    (14, 16): 3,\n",
    "    (12, 14): 4,\n",
    "    (10, 12): 5,\n",
    "    (8, 10): 6,\n",
    "    (7, 8): 7,\n",
    "    (6, 7): 8,\n",
    "    (5, 6): 9,\n",
    "    (-float('inf'), 5): 10\n",
    "}\n",
    "\n",
    "new_rating = df.apply(lambda row: co2_ratings_mapping.get((row['Fuel Consumption'], row['CO2 Rating']), row['CO2 Rating']), axis=1)\n",
    "\n",
    "df['CO2 Rating'] = new_rating\n",
    "\n"
   ]
  },
  {
   "cell_type": "code",
   "execution_count": 13,
   "id": "f49176a4",
   "metadata": {
    "ExecuteTime": {
     "end_time": "2023-03-27T07:53:09.810717Z",
     "start_time": "2023-03-27T07:53:09.790770Z"
    },
    "id": "f49176a4",
    "outputId": "4a5d36d1-6bf8-421c-dbad-173bdf804ab4"
   },
   "outputs": [
    {
     "data": {
      "text/plain": [
       "Vehicle Class       0\n",
       "Engine Size         0\n",
       "Cylinders           0\n",
       "Transmission        0\n",
       "Fuel Type           0\n",
       "Fuel Consumption    0\n",
       "CO2 Rating          0\n",
       "dtype: int64"
      ]
     },
     "execution_count": 13,
     "metadata": {},
     "output_type": "execute_result"
    }
   ],
   "source": [
    "df.isna().sum()"
   ]
  },
  {
   "cell_type": "markdown",
   "id": "1tiJx_smNvza",
   "metadata": {
    "id": "1tiJx_smNvza"
   },
   "source": [
    "# Exploratory Data Analysis"
   ]
  },
  {
   "cell_type": "code",
   "execution_count": 14,
   "id": "dfd7593b",
   "metadata": {
    "id": "dfd7593b",
    "outputId": "b8070af9-d39e-4391-bd79-8f9688b817ac"
   },
   "outputs": [
    {
     "data": {
      "image/png": "[encoded data removed]",
      "text/plain": [
       "<Figure size 1000x800 with 2 Axes>"
      ]
     },
     "metadata": {},
     "output_type": "display_data"
    }
   ],
   "source": [
    "correlation_matrix = df.corr()\n",
    "plt.figure(figsize=(10, 8))\n",
    "sns.heatmap(correlation_matrix, annot=True, cmap='OrRd', center=0)\n",
    "plt.title('Correlation Matrix beforing removing duplicates')\n",
    "plt.show()"
   ]
  },
  {
   "cell_type": "code",
   "execution_count": 15,
   "id": "6c7f26f6",
   "metadata": {
    "id": "6c7f26f6",
    "outputId": "daaf7571-a8d5-4a8d-f62d-6cddc3cac70a"
   },
   "outputs": [
    {
     "data": {
      "text/html": [
       "<div>\n",
       "<style scoped>\n",
       "    .dataframe tbody tr th:only-of-type {\n",
       "        vertical-align: middle;\n",
       "    }\n",
       "\n",
       "    .dataframe tbody tr th {\n",
       "        vertical-align: top;\n",
       "    }\n",
       "\n",
       "    .dataframe thead th {\n",
       "        text-align: right;\n",
       "    }\n",
       "</style>\n",
       "<table border=\"1\" class=\"dataframe\">\n",
       "  <thead>\n",
       "    <tr style=\"text-align: right;\">\n",
       "      <th></th>\n",
       "      <th>Vehicle Class</th>\n",
       "      <th>Engine Size</th>\n",
       "      <th>Cylinders</th>\n",
       "      <th>Transmission</th>\n",
       "      <th>Fuel Type</th>\n",
       "      <th>Fuel Consumption</th>\n",
       "      <th>CO2 Rating</th>\n",
       "    </tr>\n",
       "  </thead>\n",
       "  <tbody>\n",
       "    <tr>\n",
       "      <th>4</th>\n",
       "      <td>Compact</td>\n",
       "      <td>2.0</td>\n",
       "      <td>4</td>\n",
       "      <td>AS10</td>\n",
       "      <td>Z</td>\n",
       "      <td>9.8</td>\n",
       "      <td>5.0</td>\n",
       "    </tr>\n",
       "    <tr>\n",
       "      <th>5</th>\n",
       "      <td>Compact</td>\n",
       "      <td>2.0</td>\n",
       "      <td>4</td>\n",
       "      <td>AS10</td>\n",
       "      <td>Z</td>\n",
       "      <td>9.8</td>\n",
       "      <td>5.0</td>\n",
       "    </tr>\n",
       "    <tr>\n",
       "      <th>15</th>\n",
       "      <td>Minicompact</td>\n",
       "      <td>5.2</td>\n",
       "      <td>12</td>\n",
       "      <td>A8</td>\n",
       "      <td>Z</td>\n",
       "      <td>13.8</td>\n",
       "      <td>3.0</td>\n",
       "    </tr>\n",
       "    <tr>\n",
       "      <th>16</th>\n",
       "      <td>Minicompact</td>\n",
       "      <td>5.2</td>\n",
       "      <td>12</td>\n",
       "      <td>A8</td>\n",
       "      <td>Z</td>\n",
       "      <td>13.8</td>\n",
       "      <td>3.0</td>\n",
       "    </tr>\n",
       "    <tr>\n",
       "      <th>24</th>\n",
       "      <td>Subcompact</td>\n",
       "      <td>2.0</td>\n",
       "      <td>4</td>\n",
       "      <td>AM7</td>\n",
       "      <td>Z</td>\n",
       "      <td>8.8</td>\n",
       "      <td>6.0</td>\n",
       "    </tr>\n",
       "    <tr>\n",
       "      <th>...</th>\n",
       "      <td>...</td>\n",
       "      <td>...</td>\n",
       "      <td>...</td>\n",
       "      <td>...</td>\n",
       "      <td>...</td>\n",
       "      <td>...</td>\n",
       "      <td>...</td>\n",
       "    </tr>\n",
       "    <tr>\n",
       "      <th>935</th>\n",
       "      <td>Mid-size</td>\n",
       "      <td>2.0</td>\n",
       "      <td>4</td>\n",
       "      <td>AS8</td>\n",
       "      <td>Z</td>\n",
       "      <td>9.1</td>\n",
       "      <td>5.0</td>\n",
       "    </tr>\n",
       "    <tr>\n",
       "      <th>940</th>\n",
       "      <td>SUV: Small</td>\n",
       "      <td>2.0</td>\n",
       "      <td>4</td>\n",
       "      <td>AS8</td>\n",
       "      <td>Z</td>\n",
       "      <td>9.4</td>\n",
       "      <td>5.0</td>\n",
       "    </tr>\n",
       "    <tr>\n",
       "      <th>941</th>\n",
       "      <td>SUV: Small</td>\n",
       "      <td>2.0</td>\n",
       "      <td>4</td>\n",
       "      <td>AS8</td>\n",
       "      <td>Z</td>\n",
       "      <td>9.4</td>\n",
       "      <td>5.0</td>\n",
       "    </tr>\n",
       "    <tr>\n",
       "      <th>942</th>\n",
       "      <td>SUV: Small</td>\n",
       "      <td>2.0</td>\n",
       "      <td>4</td>\n",
       "      <td>AS8</td>\n",
       "      <td>Z</td>\n",
       "      <td>9.9</td>\n",
       "      <td>5.0</td>\n",
       "    </tr>\n",
       "    <tr>\n",
       "      <th>944</th>\n",
       "      <td>SUV: Standard</td>\n",
       "      <td>2.0</td>\n",
       "      <td>4</td>\n",
       "      <td>AS8</td>\n",
       "      <td>Z</td>\n",
       "      <td>10.8</td>\n",
       "      <td>5.0</td>\n",
       "    </tr>\n",
       "  </tbody>\n",
       "</table>\n",
       "<p>351 rows × 7 columns</p>\n",
       "</div>"
      ],
      "text/plain": [
       "     Vehicle Class  Engine Size  Cylinders Transmission Fuel Type  \\\n",
       "4          Compact          2.0          4         AS10         Z   \n",
       "5          Compact          2.0          4         AS10         Z   \n",
       "15     Minicompact          5.2         12           A8         Z   \n",
       "16     Minicompact          5.2         12           A8         Z   \n",
       "24      Subcompact          2.0          4          AM7         Z   \n",
       "..             ...          ...        ...          ...       ...   \n",
       "935       Mid-size          2.0          4          AS8         Z   \n",
       "940     SUV: Small          2.0          4          AS8         Z   \n",
       "941     SUV: Small          2.0          4          AS8         Z   \n",
       "942     SUV: Small          2.0          4          AS8         Z   \n",
       "944  SUV: Standard          2.0          4          AS8         Z   \n",
       "\n",
       "     Fuel Consumption  CO2 Rating  \n",
       "4                 9.8         5.0  \n",
       "5                 9.8         5.0  \n",
       "15               13.8         3.0  \n",
       "16               13.8         3.0  \n",
       "24                8.8         6.0  \n",
       "..                ...         ...  \n",
       "935               9.1         5.0  \n",
       "940               9.4         5.0  \n",
       "941               9.4         5.0  \n",
       "942               9.9         5.0  \n",
       "944              10.8         5.0  \n",
       "\n",
       "[351 rows x 7 columns]"
      ]
     },
     "execution_count": 15,
     "metadata": {},
     "output_type": "execute_result"
    }
   ],
   "source": [
    "duplicated_rows = df.duplicated(keep=False)\n",
    "\n",
    "df[duplicated_rows]"
   ]
  },
  {
   "cell_type": "code",
   "execution_count": 16,
   "id": "320e801f",
   "metadata": {
    "id": "320e801f",
    "outputId": "0463b75f-289f-4d86-c201-e43252a1e085"
   },
   "outputs": [
    {
     "data": {
      "text/html": [
       "<div>\n",
       "<style scoped>\n",
       "    .dataframe tbody tr th:only-of-type {\n",
       "        vertical-align: middle;\n",
       "    }\n",
       "\n",
       "    .dataframe tbody tr th {\n",
       "        vertical-align: top;\n",
       "    }\n",
       "\n",
       "    .dataframe thead th {\n",
       "        text-align: right;\n",
       "    }\n",
       "</style>\n",
       "<table border=\"1\" class=\"dataframe\">\n",
       "  <thead>\n",
       "    <tr style=\"text-align: right;\">\n",
       "      <th></th>\n",
       "      <th>Vehicle Class</th>\n",
       "      <th>Engine Size</th>\n",
       "      <th>Cylinders</th>\n",
       "      <th>Transmission</th>\n",
       "      <th>Fuel Type</th>\n",
       "      <th>Fuel Consumption</th>\n",
       "      <th>CO2 Rating</th>\n",
       "    </tr>\n",
       "  </thead>\n",
       "  <tbody>\n",
       "    <tr>\n",
       "      <th>0</th>\n",
       "      <td>Compact</td>\n",
       "      <td>2.4</td>\n",
       "      <td>4</td>\n",
       "      <td>AM8</td>\n",
       "      <td>Z</td>\n",
       "      <td>8.6</td>\n",
       "      <td>6.0</td>\n",
       "    </tr>\n",
       "    <tr>\n",
       "      <th>1</th>\n",
       "      <td>SUV: Small</td>\n",
       "      <td>3.5</td>\n",
       "      <td>6</td>\n",
       "      <td>AS10</td>\n",
       "      <td>Z</td>\n",
       "      <td>11.2</td>\n",
       "      <td>4.0</td>\n",
       "    </tr>\n",
       "    <tr>\n",
       "      <th>2</th>\n",
       "      <td>SUV: Small</td>\n",
       "      <td>2.0</td>\n",
       "      <td>4</td>\n",
       "      <td>AS10</td>\n",
       "      <td>Z</td>\n",
       "      <td>9.9</td>\n",
       "      <td>5.0</td>\n",
       "    </tr>\n",
       "    <tr>\n",
       "      <th>3</th>\n",
       "      <td>SUV: Small</td>\n",
       "      <td>2.0</td>\n",
       "      <td>4</td>\n",
       "      <td>AS10</td>\n",
       "      <td>Z</td>\n",
       "      <td>10.3</td>\n",
       "      <td>5.0</td>\n",
       "    </tr>\n",
       "    <tr>\n",
       "      <th>4</th>\n",
       "      <td>Compact</td>\n",
       "      <td>2.0</td>\n",
       "      <td>4</td>\n",
       "      <td>AS10</td>\n",
       "      <td>Z</td>\n",
       "      <td>9.8</td>\n",
       "      <td>5.0</td>\n",
       "    </tr>\n",
       "    <tr>\n",
       "      <th>...</th>\n",
       "      <td>...</td>\n",
       "      <td>...</td>\n",
       "      <td>...</td>\n",
       "      <td>...</td>\n",
       "      <td>...</td>\n",
       "      <td>...</td>\n",
       "      <td>...</td>\n",
       "    </tr>\n",
       "    <tr>\n",
       "      <th>937</th>\n",
       "      <td>Station wagon: Small</td>\n",
       "      <td>2.0</td>\n",
       "      <td>4</td>\n",
       "      <td>AS8</td>\n",
       "      <td>Z</td>\n",
       "      <td>9.5</td>\n",
       "      <td>5.0</td>\n",
       "    </tr>\n",
       "    <tr>\n",
       "      <th>938</th>\n",
       "      <td>Station wagon: Mid-size</td>\n",
       "      <td>2.0</td>\n",
       "      <td>4</td>\n",
       "      <td>AS8</td>\n",
       "      <td>Z</td>\n",
       "      <td>9.5</td>\n",
       "      <td>5.0</td>\n",
       "    </tr>\n",
       "    <tr>\n",
       "      <th>939</th>\n",
       "      <td>SUV: Small</td>\n",
       "      <td>2.0</td>\n",
       "      <td>4</td>\n",
       "      <td>AS8</td>\n",
       "      <td>X</td>\n",
       "      <td>9.3</td>\n",
       "      <td>5.0</td>\n",
       "    </tr>\n",
       "    <tr>\n",
       "      <th>940</th>\n",
       "      <td>SUV: Small</td>\n",
       "      <td>2.0</td>\n",
       "      <td>4</td>\n",
       "      <td>AS8</td>\n",
       "      <td>Z</td>\n",
       "      <td>9.4</td>\n",
       "      <td>5.0</td>\n",
       "    </tr>\n",
       "    <tr>\n",
       "      <th>943</th>\n",
       "      <td>SUV: Standard</td>\n",
       "      <td>2.0</td>\n",
       "      <td>4</td>\n",
       "      <td>AS8</td>\n",
       "      <td>Z</td>\n",
       "      <td>10.1</td>\n",
       "      <td>5.0</td>\n",
       "    </tr>\n",
       "  </tbody>\n",
       "</table>\n",
       "<p>745 rows × 7 columns</p>\n",
       "</div>"
      ],
      "text/plain": [
       "               Vehicle Class  Engine Size  Cylinders Transmission Fuel Type  \\\n",
       "0                    Compact          2.4          4          AM8         Z   \n",
       "1                 SUV: Small          3.5          6         AS10         Z   \n",
       "2                 SUV: Small          2.0          4         AS10         Z   \n",
       "3                 SUV: Small          2.0          4         AS10         Z   \n",
       "4                    Compact          2.0          4         AS10         Z   \n",
       "..                       ...          ...        ...          ...       ...   \n",
       "937     Station wagon: Small          2.0          4          AS8         Z   \n",
       "938  Station wagon: Mid-size          2.0          4          AS8         Z   \n",
       "939               SUV: Small          2.0          4          AS8         X   \n",
       "940               SUV: Small          2.0          4          AS8         Z   \n",
       "943            SUV: Standard          2.0          4          AS8         Z   \n",
       "\n",
       "     Fuel Consumption  CO2 Rating  \n",
       "0                 8.6         6.0  \n",
       "1                11.2         4.0  \n",
       "2                 9.9         5.0  \n",
       "3                10.3         5.0  \n",
       "4                 9.8         5.0  \n",
       "..                ...         ...  \n",
       "937               9.5         5.0  \n",
       "938               9.5         5.0  \n",
       "939               9.3         5.0  \n",
       "940               9.4         5.0  \n",
       "943              10.1         5.0  \n",
       "\n",
       "[745 rows x 7 columns]"
      ]
     },
     "execution_count": 16,
     "metadata": {},
     "output_type": "execute_result"
    }
   ],
   "source": [
    "df = df.drop_duplicates()\n",
    "\n",
    "df"
   ]
  },
  {
   "cell_type": "code",
   "execution_count": 17,
   "id": "9821fe45",
   "metadata": {
    "ExecuteTime": {
     "end_time": "2023-03-27T07:53:12.082551Z",
     "start_time": "2023-03-27T07:53:12.070551Z"
    },
    "id": "9821fe45",
    "outputId": "fe00d8fb-ac65-4a33-a4aa-ce45966de7b3"
   },
   "outputs": [
    {
     "data": {
      "image/png": "[encoded data removed]",
      "text/plain": [
       "<Figure size 1000x800 with 2 Axes>"
      ]
     },
     "metadata": {},
     "output_type": "display_data"
    }
   ],
   "source": [
    "correlation_matrix = df.corr()\n",
    "plt.figure(figsize=(10, 8))\n",
    "sns.heatmap(correlation_matrix, annot=True, cmap='OrRd', center=0)\n",
    "plt.title('Correlation Matrix after removing duplicates')\n",
    "plt.show()"
   ]
  },
  {
   "cell_type": "code",
   "execution_count": 18,
   "id": "2412b4eb",
   "metadata": {
    "ExecuteTime": {
     "end_time": "2023-03-27T07:53:16.932053Z",
     "start_time": "2023-03-27T07:53:16.919103Z"
    },
    "id": "2412b4eb",
    "outputId": "7ae8807e-bb9f-42ad-c8ba-af9e6ae784f4",
    "scrolled": true
   },
   "outputs": [
    {
     "name": "stdout",
     "output_type": "stream",
     "text": [
      "Vehicle Class\n",
      "['Compact' 'SUV: Small' 'Mid-size' 'Minicompact' 'SUV: Standard'\n",
      " 'Two-seater' 'Subcompact' 'Station wagon: Small'\n",
      " 'Station wagon: Mid-size' 'Full-size' 'Pickup truck: Small'\n",
      " 'Pickup truck: Standard' 'Minivan' 'Special purpose vehicle'] \n",
      "\n",
      "Engine Size\n",
      "[2.4 3.5 2.  3.  2.9 4.  5.2 2.5 6.  4.4 6.6 8.  3.6 1.4 1.2 1.3 2.7 6.2\n",
      " 2.8 1.5 5.3 5.7 6.4 2.3 3.3 5.  1.8 1.6 3.8 5.6 3.2 6.5 4.6 3.4 3.7 6.7] \n",
      "\n",
      "Cylinders\n",
      "[ 4  6  8 12 10  5 16  3] \n",
      "\n",
      "Transmission\n",
      "['AM8' 'AS10' 'A8' 'A9' 'AM7' 'AS8' 'M6' 'AS6' 'AV' 'AS9' 'A10' 'A6' 'M5'\n",
      " 'M7' 'AV7' 'AV1' 'AM6' 'AS7' 'AV8' 'AV6' 'AV10' 'AS5' 'A7'] \n",
      "\n",
      "Fuel Type\n",
      "['Z' 'X' 'D' 'E'] \n",
      "\n",
      "Fuel Consumption\n",
      "[ 8.6 11.2  9.9 10.3  9.8 11.   8.7  9.2 11.6  9.3  9.6 12.3 11.5 13.8\n",
      " 14.6  7.6  8.2  8.8  8.9  9.1 10.  10.6  9.4 10.8 11.7 15.3 11.4 13.7\n",
      " 13.5 15.4  9.7 10.9 13.9 10.1  9.  13.2 16.3 12.2 16.2 12.5 17.  16.\n",
      "  8.3 12.  12.6 12.7 12.9 15.1 10.4 15.7 11.1  8.5 22.2 26.1 11.8  7.8\n",
      "  7.9  9.5 10.2 13.  10.7 14.8 15.2 10.5 14.7 14.9 11.3 12.1 14.1  8.4\n",
      "  7.5 14.5 19.1 13.4 13.1 14.  19.5 21.5 14.4 15.5 15.  16.4  7.   7.2\n",
      " 14.3 15.6 12.4  5.8  5.9 12.8 17.9 17.4 18.1 17.8 15.8 13.3 16.7  6.3\n",
      " 13.6  5.   5.5  7.1  8.   6.9  7.7  8.1  6.7  6.4  4.4  4.2  4.   7.4\n",
      " 16.5  4.6  5.3  6.6 11.9 21.2 16.9  6.   7.3  6.2  6.5 14.2 19.8  4.9\n",
      "  5.1  6.8  4.5  4.8  6.1] \n",
      "\n",
      "CO2 Rating\n",
      "[ 6.  4.  5.  3.  7.  2.  0.  1.  8.  9. 10.] \n",
      "\n"
     ]
    }
   ],
   "source": [
    "for i in df.columns:\n",
    "    print(i)\n",
    "    print(df[i].unique(),'\\n')"
   ]
  },
  {
   "cell_type": "code",
   "execution_count": 19,
   "id": "71206f73",
   "metadata": {
    "ExecuteTime": {
     "end_time": "2023-03-27T07:53:18.497293Z",
     "start_time": "2023-03-27T07:53:18.470853Z"
    },
    "id": "71206f73",
    "outputId": "c83ec934-b19b-4a44-96ed-958b16932090",
    "scrolled": true
   },
   "outputs": [
    {
     "data": {
      "text/html": [
       "<div>\n",
       "<style scoped>\n",
       "    .dataframe tbody tr th:only-of-type {\n",
       "        vertical-align: middle;\n",
       "    }\n",
       "\n",
       "    .dataframe tbody tr th {\n",
       "        vertical-align: top;\n",
       "    }\n",
       "\n",
       "    .dataframe thead th {\n",
       "        text-align: right;\n",
       "    }\n",
       "</style>\n",
       "<table border=\"1\" class=\"dataframe\">\n",
       "  <thead>\n",
       "    <tr style=\"text-align: right;\">\n",
       "      <th></th>\n",
       "      <th>Vehicle Class</th>\n",
       "      <th>Engine Size</th>\n",
       "      <th>Cylinders</th>\n",
       "      <th>Transmission</th>\n",
       "      <th>Fuel Type</th>\n",
       "      <th>Fuel Consumption</th>\n",
       "      <th>CO2 Rating</th>\n",
       "    </tr>\n",
       "  </thead>\n",
       "  <tbody>\n",
       "    <tr>\n",
       "      <th>0</th>\n",
       "      <td>Compact</td>\n",
       "      <td>2.4</td>\n",
       "      <td>4</td>\n",
       "      <td>AM</td>\n",
       "      <td>Z</td>\n",
       "      <td>8.6</td>\n",
       "      <td>6.0</td>\n",
       "    </tr>\n",
       "    <tr>\n",
       "      <th>1</th>\n",
       "      <td>SUV: Small</td>\n",
       "      <td>3.5</td>\n",
       "      <td>6</td>\n",
       "      <td>AS</td>\n",
       "      <td>Z</td>\n",
       "      <td>11.2</td>\n",
       "      <td>4.0</td>\n",
       "    </tr>\n",
       "    <tr>\n",
       "      <th>2</th>\n",
       "      <td>SUV: Small</td>\n",
       "      <td>2.0</td>\n",
       "      <td>4</td>\n",
       "      <td>AS</td>\n",
       "      <td>Z</td>\n",
       "      <td>9.9</td>\n",
       "      <td>5.0</td>\n",
       "    </tr>\n",
       "    <tr>\n",
       "      <th>3</th>\n",
       "      <td>SUV: Small</td>\n",
       "      <td>2.0</td>\n",
       "      <td>4</td>\n",
       "      <td>AS</td>\n",
       "      <td>Z</td>\n",
       "      <td>10.3</td>\n",
       "      <td>5.0</td>\n",
       "    </tr>\n",
       "    <tr>\n",
       "      <th>4</th>\n",
       "      <td>Compact</td>\n",
       "      <td>2.0</td>\n",
       "      <td>4</td>\n",
       "      <td>AS</td>\n",
       "      <td>Z</td>\n",
       "      <td>9.8</td>\n",
       "      <td>5.0</td>\n",
       "    </tr>\n",
       "    <tr>\n",
       "      <th>...</th>\n",
       "      <td>...</td>\n",
       "      <td>...</td>\n",
       "      <td>...</td>\n",
       "      <td>...</td>\n",
       "      <td>...</td>\n",
       "      <td>...</td>\n",
       "      <td>...</td>\n",
       "    </tr>\n",
       "    <tr>\n",
       "      <th>937</th>\n",
       "      <td>Station wagon: Small</td>\n",
       "      <td>2.0</td>\n",
       "      <td>4</td>\n",
       "      <td>AS</td>\n",
       "      <td>Z</td>\n",
       "      <td>9.5</td>\n",
       "      <td>5.0</td>\n",
       "    </tr>\n",
       "    <tr>\n",
       "      <th>938</th>\n",
       "      <td>Station wagon: Mid-size</td>\n",
       "      <td>2.0</td>\n",
       "      <td>4</td>\n",
       "      <td>AS</td>\n",
       "      <td>Z</td>\n",
       "      <td>9.5</td>\n",
       "      <td>5.0</td>\n",
       "    </tr>\n",
       "    <tr>\n",
       "      <th>939</th>\n",
       "      <td>SUV: Small</td>\n",
       "      <td>2.0</td>\n",
       "      <td>4</td>\n",
       "      <td>AS</td>\n",
       "      <td>X</td>\n",
       "      <td>9.3</td>\n",
       "      <td>5.0</td>\n",
       "    </tr>\n",
       "    <tr>\n",
       "      <th>940</th>\n",
       "      <td>SUV: Small</td>\n",
       "      <td>2.0</td>\n",
       "      <td>4</td>\n",
       "      <td>AS</td>\n",
       "      <td>Z</td>\n",
       "      <td>9.4</td>\n",
       "      <td>5.0</td>\n",
       "    </tr>\n",
       "    <tr>\n",
       "      <th>943</th>\n",
       "      <td>SUV: Standard</td>\n",
       "      <td>2.0</td>\n",
       "      <td>4</td>\n",
       "      <td>AS</td>\n",
       "      <td>Z</td>\n",
       "      <td>10.1</td>\n",
       "      <td>5.0</td>\n",
       "    </tr>\n",
       "  </tbody>\n",
       "</table>\n",
       "<p>745 rows × 7 columns</p>\n",
       "</div>"
      ],
      "text/plain": [
       "               Vehicle Class  Engine Size  Cylinders Transmission Fuel Type  \\\n",
       "0                    Compact          2.4          4           AM         Z   \n",
       "1                 SUV: Small          3.5          6           AS         Z   \n",
       "2                 SUV: Small          2.0          4           AS         Z   \n",
       "3                 SUV: Small          2.0          4           AS         Z   \n",
       "4                    Compact          2.0          4           AS         Z   \n",
       "..                       ...          ...        ...          ...       ...   \n",
       "937     Station wagon: Small          2.0          4           AS         Z   \n",
       "938  Station wagon: Mid-size          2.0          4           AS         Z   \n",
       "939               SUV: Small          2.0          4           AS         X   \n",
       "940               SUV: Small          2.0          4           AS         Z   \n",
       "943            SUV: Standard          2.0          4           AS         Z   \n",
       "\n",
       "     Fuel Consumption  CO2 Rating  \n",
       "0                 8.6         6.0  \n",
       "1                11.2         4.0  \n",
       "2                 9.9         5.0  \n",
       "3                10.3         5.0  \n",
       "4                 9.8         5.0  \n",
       "..                ...         ...  \n",
       "937               9.5         5.0  \n",
       "938               9.5         5.0  \n",
       "939               9.3         5.0  \n",
       "940               9.4         5.0  \n",
       "943              10.1         5.0  \n",
       "\n",
       "[745 rows x 7 columns]"
      ]
     },
     "execution_count": 19,
     "metadata": {},
     "output_type": "execute_result"
    }
   ],
   "source": [
    "df = df.replace({'Transmission' : {'AM8':'AM', 'AS10': 'AS', 'A8':'A', 'A9':'A', 'AM7':'AM', 'AS8':'AS', 'M6':'M',\\\n",
    "                                   'AS6':'AS', 'AS9':'AS', 'A10':'A', 'A6':'A', 'M5':'M', 'M7':'M', 'AV7':'AV', 'AV1':'AV', 'AM6':'AM', 'AS7':'AS', 'AV8':'AV', 'AV6':'AV', 'AV10':'AV', 'AS5':'AS', 'A7':'A'}})\n",
    "df"
   ]
  },
  {
   "cell_type": "code",
   "execution_count": 20,
   "id": "37529fd4",
   "metadata": {
    "ExecuteTime": {
     "end_time": "2023-03-27T07:53:20.652155Z",
     "start_time": "2023-03-27T07:53:20.639190Z"
    },
    "id": "37529fd4",
    "outputId": "2ad59922-7ea3-4342-eedc-ebc22c191708"
   },
   "outputs": [
    {
     "data": {
      "text/plain": [
       "array(['AM', 'AS', 'A', 'M', 'AV'], dtype=object)"
      ]
     },
     "execution_count": 20,
     "metadata": {},
     "output_type": "execute_result"
    }
   ],
   "source": [
    "df['Transmission'].unique()"
   ]
  },
  {
   "cell_type": "code",
   "execution_count": 21,
   "id": "6eeb8607",
   "metadata": {
    "ExecuteTime": {
     "end_time": "2023-03-27T07:53:23.090817Z",
     "start_time": "2023-03-27T07:53:23.062388Z"
    },
    "id": "6eeb8607",
    "outputId": "2e5113af-3c1f-4a15-e3d2-e176cef1b6eb"
   },
   "outputs": [
    {
     "data": {
      "text/html": [
       "<div>\n",
       "<style scoped>\n",
       "    .dataframe tbody tr th:only-of-type {\n",
       "        vertical-align: middle;\n",
       "    }\n",
       "\n",
       "    .dataframe tbody tr th {\n",
       "        vertical-align: top;\n",
       "    }\n",
       "\n",
       "    .dataframe thead th {\n",
       "        text-align: right;\n",
       "    }\n",
       "</style>\n",
       "<table border=\"1\" class=\"dataframe\">\n",
       "  <thead>\n",
       "    <tr style=\"text-align: right;\">\n",
       "      <th></th>\n",
       "      <th>Engine Size</th>\n",
       "      <th>Cylinders</th>\n",
       "      <th>Fuel Consumption</th>\n",
       "      <th>CO2 Rating</th>\n",
       "    </tr>\n",
       "  </thead>\n",
       "  <tbody>\n",
       "    <tr>\n",
       "      <th>count</th>\n",
       "      <td>745.000000</td>\n",
       "      <td>745.000000</td>\n",
       "      <td>745.000000</td>\n",
       "      <td>745.000000</td>\n",
       "    </tr>\n",
       "    <tr>\n",
       "      <th>mean</th>\n",
       "      <td>3.040268</td>\n",
       "      <td>5.451007</td>\n",
       "      <td>10.755168</td>\n",
       "      <td>4.655034</td>\n",
       "    </tr>\n",
       "    <tr>\n",
       "      <th>std</th>\n",
       "      <td>1.303187</td>\n",
       "      <td>1.833991</td>\n",
       "      <td>2.801723</td>\n",
       "      <td>1.585529</td>\n",
       "    </tr>\n",
       "    <tr>\n",
       "      <th>min</th>\n",
       "      <td>1.200000</td>\n",
       "      <td>3.000000</td>\n",
       "      <td>4.000000</td>\n",
       "      <td>0.000000</td>\n",
       "    </tr>\n",
       "    <tr>\n",
       "      <th>25%</th>\n",
       "      <td>2.000000</td>\n",
       "      <td>4.000000</td>\n",
       "      <td>8.900000</td>\n",
       "      <td>4.000000</td>\n",
       "    </tr>\n",
       "    <tr>\n",
       "      <th>50%</th>\n",
       "      <td>2.700000</td>\n",
       "      <td>6.000000</td>\n",
       "      <td>10.400000</td>\n",
       "      <td>5.000000</td>\n",
       "    </tr>\n",
       "    <tr>\n",
       "      <th>75%</th>\n",
       "      <td>3.600000</td>\n",
       "      <td>6.000000</td>\n",
       "      <td>12.300000</td>\n",
       "      <td>6.000000</td>\n",
       "    </tr>\n",
       "    <tr>\n",
       "      <th>max</th>\n",
       "      <td>8.000000</td>\n",
       "      <td>16.000000</td>\n",
       "      <td>26.100000</td>\n",
       "      <td>10.000000</td>\n",
       "    </tr>\n",
       "  </tbody>\n",
       "</table>\n",
       "</div>"
      ],
      "text/plain": [
       "       Engine Size   Cylinders  Fuel Consumption  CO2 Rating\n",
       "count   745.000000  745.000000        745.000000  745.000000\n",
       "mean      3.040268    5.451007         10.755168    4.655034\n",
       "std       1.303187    1.833991          2.801723    1.585529\n",
       "min       1.200000    3.000000          4.000000    0.000000\n",
       "25%       2.000000    4.000000          8.900000    4.000000\n",
       "50%       2.700000    6.000000         10.400000    5.000000\n",
       "75%       3.600000    6.000000         12.300000    6.000000\n",
       "max       8.000000   16.000000         26.100000   10.000000"
      ]
     },
     "execution_count": 21,
     "metadata": {},
     "output_type": "execute_result"
    }
   ],
   "source": [
    "df[['Engine Size','Cylinders','Fuel Consumption','CO2 Rating']].describe()"
   ]
  },
  {
   "cell_type": "code",
   "execution_count": 22,
   "id": "fcd8bb33",
   "metadata": {
    "id": "fcd8bb33",
    "outputId": "b0c45073-4c18-4da1-d594-ce4824627741"
   },
   "outputs": [
    {
     "data": {
      "image/png": "[encoded data removed]",
      "text/plain": [
       "<Figure size 1950x900 with 1 Axes>"
      ]
     },
     "metadata": {},
     "output_type": "display_data"
    }
   ],
   "source": [
    "plt.figure(figsize=(13, 6), dpi=150)\n",
    "transmission_counts = df['Transmission'].value_counts()\n",
    "ax = transmission_counts.plot.bar(color='orange')\n",
    "\n",
    "for i, count in enumerate(transmission_counts):\n",
    "    ax.annotate(str(count), xy=(i, count), ha='center', va='bottom', fontsize=10)\n",
    "\n",
    "plt.xlabel('Transmission')\n",
    "plt.ylabel('Count')\n",
    "plt.title('Transmission Distribution')\n",
    "plt.show()\n"
   ]
  },
  {
   "cell_type": "code",
   "execution_count": 23,
   "id": "2d795297",
   "metadata": {
    "ExecuteTime": {
     "end_time": "2023-03-27T07:53:30.666708Z",
     "start_time": "2023-03-27T07:53:30.559479Z"
    },
    "id": "2d795297",
    "outputId": "3d6e0aa9-03ee-4784-bb60-82ad043e8d96",
    "scrolled": false
   },
   "outputs": [
    {
     "data": {
      "image/png": "[encoded data removed]",
      "text/plain": [
       "<Figure size 1950x900 with 1 Axes>"
      ]
     },
     "metadata": {},
     "output_type": "display_data"
    }
   ],
   "source": [
    "plt.figure(figsize=(13, 6), dpi=150)\n",
    "transmission_counts = df['Fuel Type'].value_counts()\n",
    "ax = transmission_counts.plot.bar(color='MediumVioletRed')\n",
    "\n",
    "for i, count in enumerate(transmission_counts):\n",
    "    ax.annotate(str(count), xy=(i, count), ha='center', va='bottom', fontsize=10)\n",
    "\n",
    "plt.xlabel('Fuel Type')\n",
    "plt.ylabel('Count')\n",
    "plt.title('Fuel Type Distribution')\n",
    "plt.show()\n"
   ]
  },
  {
   "cell_type": "code",
   "execution_count": 24,
   "id": "3ddb9eb4",
   "metadata": {
    "ExecuteTime": {
     "end_time": "2023-03-22T09:48:00.806974Z",
     "start_time": "2023-03-22T09:47:56.593608Z"
    },
    "id": "3ddb9eb4",
    "outputId": "44d02e89-e105-43f3-ed97-b0e35d549646",
    "scrolled": false
   },
   "outputs": [
    {
     "data": {
      "text/plain": [
       "<seaborn.axisgrid.PairGrid at 0x2152383c370>"
      ]
     },
     "execution_count": 24,
     "metadata": {},
     "output_type": "execute_result"
    },
    {
     "data": {
      "text/plain": [
       "<Figure size 1950x900 with 0 Axes>"
      ]
     },
     "metadata": {},
     "output_type": "display_data"
    },
    {
     "data": {
      "image/png": "[encoded data removed]",
      "text/plain": [
       "<Figure size 1075.86x1000 with 20 Axes>"
      ]
     },
     "metadata": {},
     "output_type": "display_data"
    }
   ],
   "source": [
    "plt.figure(figsize=(13,6), dpi=150)\n",
    "sns.pairplot(df, hue='Fuel Type',diag_kind='hist')"
   ]
  },
  {
   "cell_type": "code",
   "execution_count": 26,
   "id": "fc46b05c",
   "metadata": {
    "ExecuteTime": {
     "end_time": "2023-03-22T09:48:01.008286Z",
     "start_time": "2023-03-22T09:48:00.807974Z"
    },
    "id": "fc46b05c",
    "outputId": "981f8d55-e908-4972-bb42-a708d3147c67",
    "scrolled": false
   },
   "outputs": [
    {
     "data": {
      "image/png": "[encoded data removed]",
      "text/plain": [
       "<Figure size 1950x900 with 1 Axes>"
      ]
     },
     "metadata": {},
     "output_type": "display_data"
    }
   ],
   "source": [
    "plt.figure(figsize=(13,6), dpi=150)\n",
    "plt.xticks(rotation=45)\n",
    "plt.title('Cylinders vs Fuel Consumption',size=20)\n",
    "fuel_chart=sns.barplot( data=df, x=\"Cylinders\", y=\"Fuel Consumption\",palette='Spectral', ci=None)\n",
    "plt.xlabel('Cylinders',size=20)\n",
    "plt.ylabel('Fuel Consumption',size=20)\n",
    "fuel_chart.bar_label(fuel_chart.containers[0],size=11)\n",
    "plt.show()"
   ]
  },
  {
   "cell_type": "markdown",
   "id": "21f477fd",
   "metadata": {
    "id": "21f477fd"
   },
   "source": [
    "  "
   ]
  },
  {
   "cell_type": "code",
   "execution_count": 27,
   "id": "7e62646b",
   "metadata": {
    "ExecuteTime": {
     "end_time": "2023-03-22T09:48:01.694157Z",
     "start_time": "2023-03-22T09:48:01.401747Z"
    },
    "id": "7e62646b",
    "outputId": "f03e77da-49fb-43cb-cedf-82bdc097f309",
    "scrolled": true
   },
   "outputs": [
    {
     "data": {
      "image/png": "[encoded data removed]",
      "text/plain": [
       "<Figure size 640x480 with 1 Axes>"
      ]
     },
     "metadata": {},
     "output_type": "display_data"
    },
    {
     "data": {
      "image/png": "[encoded data removed]",
      "text/plain": [
       "<Figure size 640x480 with 1 Axes>"
      ]
     },
     "metadata": {},
     "output_type": "display_data"
    },
    {
     "data": {
      "image/png": "[encoded data removed]",
      "text/plain": [
       "<Figure size 640x480 with 1 Axes>"
      ]
     },
     "metadata": {},
     "output_type": "display_data"
    },
    {
     "data": {
      "image/png": "[encoded data removed]",
      "text/plain": [
       "<Figure size 640x480 with 1 Axes>"
      ]
     },
     "metadata": {},
     "output_type": "display_data"
    }
   ],
   "source": [
    "for col in df.columns:\n",
    "    if df[col].dtypes!= object:\n",
    "        sns.boxplot(y=col,data=df)\n",
    "        plt.show()"
   ]
  },
  {
   "cell_type": "code",
   "execution_count": 28,
   "id": "1a057310",
   "metadata": {
    "ExecuteTime": {
     "end_time": "2023-03-22T09:48:02.047204Z",
     "start_time": "2023-03-22T09:48:01.696152Z"
    },
    "id": "1a057310",
    "outputId": "f3e80202-c0bc-4ae5-8cd3-c803fb388753",
    "scrolled": true
   },
   "outputs": [
    {
     "data": {
      "image/png": "[encoded data removed]",
      "text/plain": [
       "<Figure size 640x480 with 1 Axes>"
      ]
     },
     "metadata": {},
     "output_type": "display_data"
    },
    {
     "data": {
      "image/png": "[encoded data removed]",
      "text/plain": [
       "<Figure size 640x480 with 1 Axes>"
      ]
     },
     "metadata": {},
     "output_type": "display_data"
    },
    {
     "data": {
      "image/png": "[encoded data removed]",
      "text/plain": [
       "<Figure size 640x480 with 1 Axes>"
      ]
     },
     "metadata": {},
     "output_type": "display_data"
    },
    {
     "data": {
      "image/png": "[encoded data removed]",
      "text/plain": [
       "<Figure size 640x480 with 1 Axes>"
      ]
     },
     "metadata": {},
     "output_type": "display_data"
    },
    {
     "data": {
      "image/png": "[encoded data removed]",
      "text/plain": [
       "<Figure size 640x480 with 1 Axes>"
      ]
     },
     "metadata": {},
     "output_type": "display_data"
    },
    {
     "data": {
      "image/png": "[encoded data removed]",
      "text/plain": [
       "<Figure size 640x480 with 1 Axes>"
      ]
     },
     "metadata": {},
     "output_type": "display_data"
    },
    {
     "data": {
      "image/png": "[encoded data removed]",
      "text/plain": [
       "<Figure size 640x480 with 1 Axes>"
      ]
     },
     "metadata": {},
     "output_type": "display_data"
    },
    {
     "data": {
      "image/png": "[encoded data removed]",
      "text/plain": [
       "<Figure size 640x480 with 1 Axes>"
      ]
     },
     "metadata": {},
     "output_type": "display_data"
    }
   ],
   "source": [
    "for col in df.columns:\n",
    "    if df[col].dtypes!= object:\n",
    "        percentile_25=df[col].quantile(0.25)\n",
    "        percentile_75=df[col].quantile(0.75)\n",
    "        IQR=percentile_75-percentile_25\n",
    "        upper_limit=percentile_75+(1.5*IQR)\n",
    "        lower_limit=percentile_25-(1.5*IQR)\n",
    "        df=df[df[col]<=upper_limit]\n",
    "        df=df[df[col]>=lower_limit]\n",
    "        plt.figure()\n",
    "        sns.boxplot(y=col,data=df)\n",
    "\n",
    "\n",
    "for col in df.select_dtypes(include=[np.number]).columns:\n",
    "    percentile_25 = df[col].quantile(0.25)\n",
    "    percentile_75 = df[col].quantile(0.75)\n",
    "    IQR = percentile_75 - percentile_25\n",
    "\n",
    "    # Calculate upper and lower limits for outliers\n",
    "    upper_limit = percentile_75 + (1.5 * IQR)\n",
    "    lower_limit = percentile_25 - (1.5 * IQR)\n",
    "\n",
    "    # Filter data within limits\n",
    "    df_filtered = df[(df[col] <= upper_limit) & (df[col] >= lower_limit)]\n",
    "\n",
    "    # Create a boxplot\n",
    "    plt.figure()\n",
    "    sns.boxplot(y=col, data=df_filtered)\n",
    "    plt.title(f'Boxplot of {col}')\n",
    "    plt.show()\n"
   ]
  },
  {
   "cell_type": "code",
   "execution_count": 29,
   "id": "3f2026c2",
   "metadata": {
    "ExecuteTime": {
     "end_time": "2023-03-22T09:48:02.062776Z",
     "start_time": "2023-03-22T09:48:02.048200Z"
    },
    "id": "3f2026c2",
    "outputId": "6d2c8ab6-4e56-4429-dd31-1268303df391"
   },
   "outputs": [
    {
     "data": {
      "text/plain": [
       "(685, 7)"
      ]
     },
     "execution_count": 29,
     "metadata": {},
     "output_type": "execute_result"
    }
   ],
   "source": [
    "df.shape"
   ]
  },
  {
   "cell_type": "code",
   "execution_count": 30,
   "id": "90813a8f",
   "metadata": {
    "ExecuteTime": {
     "end_time": "2023-03-22T09:48:02.078310Z",
     "start_time": "2023-03-22T09:48:02.063774Z"
    },
    "id": "90813a8f"
   },
   "outputs": [],
   "source": [
    "order = ['AV', 'AM', 'M', 'AS', 'A']\n",
    "\n",
    "od = OrdinalEncoder(categories = [order])\n",
    "\n",
    "df[\"Transmission_X\"] = od.fit_transform(df[[\"Transmission\"]])"
   ]
  },
  {
   "cell_type": "code",
   "execution_count": 31,
   "id": "ee71b250",
   "metadata": {
    "ExecuteTime": {
     "end_time": "2023-03-22T09:48:02.093674Z",
     "start_time": "2023-03-22T09:48:02.081815Z"
    },
    "id": "ee71b250"
   },
   "outputs": [],
   "source": [
    "order = ['Two-seater','Minicompact','Compact','Subcompact','Mid-size','Full-size','SUV: Small','SUV: Standard','Minivan',\\\n",
    "         'Station wagon: Small','Station wagon: Mid-size', 'Pickup truck: Small', 'Special purpose vehicle',\\\n",
    "         'Pickup truck: Standard']\n",
    "\n",
    "od = OrdinalEncoder(categories = [order])\n",
    "\n",
    "df[\"Vehicle Class_X\"] = od.fit_transform(df[[\"Vehicle Class\"]])"
   ]
  },
  {
   "cell_type": "code",
   "execution_count": 32,
   "id": "f0e1d781",
   "metadata": {
    "ExecuteTime": {
     "end_time": "2023-03-22T09:48:02.109181Z",
     "start_time": "2023-03-22T09:48:02.095669Z"
    },
    "id": "f0e1d781",
    "outputId": "c44dd166-19df-48b9-d9c7-eb6cb0149b87"
   },
   "outputs": [
    {
     "data": {
      "text/html": [
       "<div>\n",
       "<style scoped>\n",
       "    .dataframe tbody tr th:only-of-type {\n",
       "        vertical-align: middle;\n",
       "    }\n",
       "\n",
       "    .dataframe tbody tr th {\n",
       "        vertical-align: top;\n",
       "    }\n",
       "\n",
       "    .dataframe thead th {\n",
       "        text-align: right;\n",
       "    }\n",
       "</style>\n",
       "<table border=\"1\" class=\"dataframe\">\n",
       "  <thead>\n",
       "    <tr style=\"text-align: right;\">\n",
       "      <th></th>\n",
       "      <th>Vehicle Class</th>\n",
       "      <th>Engine Size</th>\n",
       "      <th>Cylinders</th>\n",
       "      <th>Transmission</th>\n",
       "      <th>Fuel Type</th>\n",
       "      <th>Fuel Consumption</th>\n",
       "      <th>CO2 Rating</th>\n",
       "      <th>Transmission_X</th>\n",
       "      <th>Vehicle Class_X</th>\n",
       "    </tr>\n",
       "  </thead>\n",
       "  <tbody>\n",
       "    <tr>\n",
       "      <th>0</th>\n",
       "      <td>Compact</td>\n",
       "      <td>2.4</td>\n",
       "      <td>4</td>\n",
       "      <td>AM</td>\n",
       "      <td>Z</td>\n",
       "      <td>8.6</td>\n",
       "      <td>6.0</td>\n",
       "      <td>1.0</td>\n",
       "      <td>2.0</td>\n",
       "    </tr>\n",
       "    <tr>\n",
       "      <th>1</th>\n",
       "      <td>SUV: Small</td>\n",
       "      <td>3.5</td>\n",
       "      <td>6</td>\n",
       "      <td>AS</td>\n",
       "      <td>Z</td>\n",
       "      <td>11.2</td>\n",
       "      <td>4.0</td>\n",
       "      <td>3.0</td>\n",
       "      <td>6.0</td>\n",
       "    </tr>\n",
       "    <tr>\n",
       "      <th>2</th>\n",
       "      <td>SUV: Small</td>\n",
       "      <td>2.0</td>\n",
       "      <td>4</td>\n",
       "      <td>AS</td>\n",
       "      <td>Z</td>\n",
       "      <td>9.9</td>\n",
       "      <td>5.0</td>\n",
       "      <td>3.0</td>\n",
       "      <td>6.0</td>\n",
       "    </tr>\n",
       "    <tr>\n",
       "      <th>3</th>\n",
       "      <td>SUV: Small</td>\n",
       "      <td>2.0</td>\n",
       "      <td>4</td>\n",
       "      <td>AS</td>\n",
       "      <td>Z</td>\n",
       "      <td>10.3</td>\n",
       "      <td>5.0</td>\n",
       "      <td>3.0</td>\n",
       "      <td>6.0</td>\n",
       "    </tr>\n",
       "    <tr>\n",
       "      <th>4</th>\n",
       "      <td>Compact</td>\n",
       "      <td>2.0</td>\n",
       "      <td>4</td>\n",
       "      <td>AS</td>\n",
       "      <td>Z</td>\n",
       "      <td>9.8</td>\n",
       "      <td>5.0</td>\n",
       "      <td>3.0</td>\n",
       "      <td>2.0</td>\n",
       "    </tr>\n",
       "  </tbody>\n",
       "</table>\n",
       "</div>"
      ],
      "text/plain": [
       "  Vehicle Class  Engine Size  Cylinders Transmission Fuel Type  \\\n",
       "0       Compact          2.4          4           AM         Z   \n",
       "1    SUV: Small          3.5          6           AS         Z   \n",
       "2    SUV: Small          2.0          4           AS         Z   \n",
       "3    SUV: Small          2.0          4           AS         Z   \n",
       "4       Compact          2.0          4           AS         Z   \n",
       "\n",
       "   Fuel Consumption  CO2 Rating  Transmission_X  Vehicle Class_X  \n",
       "0               8.6         6.0             1.0              2.0  \n",
       "1              11.2         4.0             3.0              6.0  \n",
       "2               9.9         5.0             3.0              6.0  \n",
       "3              10.3         5.0             3.0              6.0  \n",
       "4               9.8         5.0             3.0              2.0  "
      ]
     },
     "execution_count": 32,
     "metadata": {},
     "output_type": "execute_result"
    }
   ],
   "source": [
    "df.head()"
   ]
  },
  {
   "cell_type": "code",
   "execution_count": 33,
   "id": "c2acff81",
   "metadata": {
    "ExecuteTime": {
     "end_time": "2023-03-22T09:48:02.124336Z",
     "start_time": "2023-03-22T09:48:02.112201Z"
    },
    "id": "c2acff81"
   },
   "outputs": [],
   "source": [
    "new_df = df['Fuel Type'].str.get_dummies()"
   ]
  },
  {
   "cell_type": "code",
   "execution_count": 34,
   "id": "4098dca9",
   "metadata": {
    "ExecuteTime": {
     "end_time": "2023-03-22T09:48:02.140365Z",
     "start_time": "2023-03-22T09:48:02.125343Z"
    },
    "id": "4098dca9",
    "outputId": "235c177c-857e-489f-9790-27ebda71dfc6"
   },
   "outputs": [
    {
     "data": {
      "text/html": [
       "<div>\n",
       "<style scoped>\n",
       "    .dataframe tbody tr th:only-of-type {\n",
       "        vertical-align: middle;\n",
       "    }\n",
       "\n",
       "    .dataframe tbody tr th {\n",
       "        vertical-align: top;\n",
       "    }\n",
       "\n",
       "    .dataframe thead th {\n",
       "        text-align: right;\n",
       "    }\n",
       "</style>\n",
       "<table border=\"1\" class=\"dataframe\">\n",
       "  <thead>\n",
       "    <tr style=\"text-align: right;\">\n",
       "      <th></th>\n",
       "      <th>D</th>\n",
       "      <th>E</th>\n",
       "      <th>X</th>\n",
       "      <th>Z</th>\n",
       "    </tr>\n",
       "  </thead>\n",
       "  <tbody>\n",
       "    <tr>\n",
       "      <th>0</th>\n",
       "      <td>0</td>\n",
       "      <td>0</td>\n",
       "      <td>0</td>\n",
       "      <td>1</td>\n",
       "    </tr>\n",
       "    <tr>\n",
       "      <th>1</th>\n",
       "      <td>0</td>\n",
       "      <td>0</td>\n",
       "      <td>0</td>\n",
       "      <td>1</td>\n",
       "    </tr>\n",
       "    <tr>\n",
       "      <th>2</th>\n",
       "      <td>0</td>\n",
       "      <td>0</td>\n",
       "      <td>0</td>\n",
       "      <td>1</td>\n",
       "    </tr>\n",
       "    <tr>\n",
       "      <th>3</th>\n",
       "      <td>0</td>\n",
       "      <td>0</td>\n",
       "      <td>0</td>\n",
       "      <td>1</td>\n",
       "    </tr>\n",
       "    <tr>\n",
       "      <th>4</th>\n",
       "      <td>0</td>\n",
       "      <td>0</td>\n",
       "      <td>0</td>\n",
       "      <td>1</td>\n",
       "    </tr>\n",
       "    <tr>\n",
       "      <th>...</th>\n",
       "      <td>...</td>\n",
       "      <td>...</td>\n",
       "      <td>...</td>\n",
       "      <td>...</td>\n",
       "    </tr>\n",
       "    <tr>\n",
       "      <th>937</th>\n",
       "      <td>0</td>\n",
       "      <td>0</td>\n",
       "      <td>0</td>\n",
       "      <td>1</td>\n",
       "    </tr>\n",
       "    <tr>\n",
       "      <th>938</th>\n",
       "      <td>0</td>\n",
       "      <td>0</td>\n",
       "      <td>0</td>\n",
       "      <td>1</td>\n",
       "    </tr>\n",
       "    <tr>\n",
       "      <th>939</th>\n",
       "      <td>0</td>\n",
       "      <td>0</td>\n",
       "      <td>1</td>\n",
       "      <td>0</td>\n",
       "    </tr>\n",
       "    <tr>\n",
       "      <th>940</th>\n",
       "      <td>0</td>\n",
       "      <td>0</td>\n",
       "      <td>0</td>\n",
       "      <td>1</td>\n",
       "    </tr>\n",
       "    <tr>\n",
       "      <th>943</th>\n",
       "      <td>0</td>\n",
       "      <td>0</td>\n",
       "      <td>0</td>\n",
       "      <td>1</td>\n",
       "    </tr>\n",
       "  </tbody>\n",
       "</table>\n",
       "<p>685 rows × 4 columns</p>\n",
       "</div>"
      ],
      "text/plain": [
       "     D  E  X  Z\n",
       "0    0  0  0  1\n",
       "1    0  0  0  1\n",
       "2    0  0  0  1\n",
       "3    0  0  0  1\n",
       "4    0  0  0  1\n",
       "..  .. .. .. ..\n",
       "937  0  0  0  1\n",
       "938  0  0  0  1\n",
       "939  0  0  1  0\n",
       "940  0  0  0  1\n",
       "943  0  0  0  1\n",
       "\n",
       "[685 rows x 4 columns]"
      ]
     },
     "execution_count": 34,
     "metadata": {},
     "output_type": "execute_result"
    }
   ],
   "source": [
    "new_df"
   ]
  },
  {
   "cell_type": "code",
   "execution_count": 35,
   "id": "aa79ed69",
   "metadata": {
    "ExecuteTime": {
     "end_time": "2023-03-22T09:48:02.155180Z",
     "start_time": "2023-03-22T09:48:02.141685Z"
    },
    "id": "aa79ed69"
   },
   "outputs": [],
   "source": [
    "df= pd.concat([df,new_df], axis =1)"
   ]
  },
  {
   "cell_type": "code",
   "execution_count": 36,
   "id": "b664e759",
   "metadata": {
    "ExecuteTime": {
     "end_time": "2023-03-22T09:48:02.185682Z",
     "start_time": "2023-03-22T09:48:02.159170Z"
    },
    "id": "b664e759",
    "outputId": "5ee6311d-3de5-4911-88cd-0f53efed8802"
   },
   "outputs": [
    {
     "data": {
      "text/html": [
       "<div>\n",
       "<style scoped>\n",
       "    .dataframe tbody tr th:only-of-type {\n",
       "        vertical-align: middle;\n",
       "    }\n",
       "\n",
       "    .dataframe tbody tr th {\n",
       "        vertical-align: top;\n",
       "    }\n",
       "\n",
       "    .dataframe thead th {\n",
       "        text-align: right;\n",
       "    }\n",
       "</style>\n",
       "<table border=\"1\" class=\"dataframe\">\n",
       "  <thead>\n",
       "    <tr style=\"text-align: right;\">\n",
       "      <th></th>\n",
       "      <th>Vehicle Class</th>\n",
       "      <th>Engine Size</th>\n",
       "      <th>Cylinders</th>\n",
       "      <th>Transmission</th>\n",
       "      <th>Fuel Type</th>\n",
       "      <th>Fuel Consumption</th>\n",
       "      <th>CO2 Rating</th>\n",
       "      <th>Transmission_X</th>\n",
       "      <th>Vehicle Class_X</th>\n",
       "      <th>D</th>\n",
       "      <th>E</th>\n",
       "      <th>X</th>\n",
       "      <th>Z</th>\n",
       "    </tr>\n",
       "  </thead>\n",
       "  <tbody>\n",
       "    <tr>\n",
       "      <th>0</th>\n",
       "      <td>Compact</td>\n",
       "      <td>2.4</td>\n",
       "      <td>4</td>\n",
       "      <td>AM</td>\n",
       "      <td>Z</td>\n",
       "      <td>8.6</td>\n",
       "      <td>6.0</td>\n",
       "      <td>1.0</td>\n",
       "      <td>2.0</td>\n",
       "      <td>0</td>\n",
       "      <td>0</td>\n",
       "      <td>0</td>\n",
       "      <td>1</td>\n",
       "    </tr>\n",
       "    <tr>\n",
       "      <th>1</th>\n",
       "      <td>SUV: Small</td>\n",
       "      <td>3.5</td>\n",
       "      <td>6</td>\n",
       "      <td>AS</td>\n",
       "      <td>Z</td>\n",
       "      <td>11.2</td>\n",
       "      <td>4.0</td>\n",
       "      <td>3.0</td>\n",
       "      <td>6.0</td>\n",
       "      <td>0</td>\n",
       "      <td>0</td>\n",
       "      <td>0</td>\n",
       "      <td>1</td>\n",
       "    </tr>\n",
       "    <tr>\n",
       "      <th>2</th>\n",
       "      <td>SUV: Small</td>\n",
       "      <td>2.0</td>\n",
       "      <td>4</td>\n",
       "      <td>AS</td>\n",
       "      <td>Z</td>\n",
       "      <td>9.9</td>\n",
       "      <td>5.0</td>\n",
       "      <td>3.0</td>\n",
       "      <td>6.0</td>\n",
       "      <td>0</td>\n",
       "      <td>0</td>\n",
       "      <td>0</td>\n",
       "      <td>1</td>\n",
       "    </tr>\n",
       "    <tr>\n",
       "      <th>3</th>\n",
       "      <td>SUV: Small</td>\n",
       "      <td>2.0</td>\n",
       "      <td>4</td>\n",
       "      <td>AS</td>\n",
       "      <td>Z</td>\n",
       "      <td>10.3</td>\n",
       "      <td>5.0</td>\n",
       "      <td>3.0</td>\n",
       "      <td>6.0</td>\n",
       "      <td>0</td>\n",
       "      <td>0</td>\n",
       "      <td>0</td>\n",
       "      <td>1</td>\n",
       "    </tr>\n",
       "    <tr>\n",
       "      <th>4</th>\n",
       "      <td>Compact</td>\n",
       "      <td>2.0</td>\n",
       "      <td>4</td>\n",
       "      <td>AS</td>\n",
       "      <td>Z</td>\n",
       "      <td>9.8</td>\n",
       "      <td>5.0</td>\n",
       "      <td>3.0</td>\n",
       "      <td>2.0</td>\n",
       "      <td>0</td>\n",
       "      <td>0</td>\n",
       "      <td>0</td>\n",
       "      <td>1</td>\n",
       "    </tr>\n",
       "  </tbody>\n",
       "</table>\n",
       "</div>"
      ],
      "text/plain": [
       "  Vehicle Class  Engine Size  Cylinders Transmission Fuel Type  \\\n",
       "0       Compact          2.4          4           AM         Z   \n",
       "1    SUV: Small          3.5          6           AS         Z   \n",
       "2    SUV: Small          2.0          4           AS         Z   \n",
       "3    SUV: Small          2.0          4           AS         Z   \n",
       "4       Compact          2.0          4           AS         Z   \n",
       "\n",
       "   Fuel Consumption  CO2 Rating  Transmission_X  Vehicle Class_X  D  E  X  Z  \n",
       "0               8.6         6.0             1.0              2.0  0  0  0  1  \n",
       "1              11.2         4.0             3.0              6.0  0  0  0  1  \n",
       "2               9.9         5.0             3.0              6.0  0  0  0  1  \n",
       "3              10.3         5.0             3.0              6.0  0  0  0  1  \n",
       "4               9.8         5.0             3.0              2.0  0  0  0  1  "
      ]
     },
     "execution_count": 36,
     "metadata": {},
     "output_type": "execute_result"
    }
   ],
   "source": [
    "df.head()"
   ]
  },
  {
   "cell_type": "code",
   "execution_count": 37,
   "id": "d0c64f1c",
   "metadata": {
    "ExecuteTime": {
     "end_time": "2023-03-22T09:48:02.200691Z",
     "start_time": "2023-03-22T09:48:02.187678Z"
    },
    "id": "d0c64f1c"
   },
   "outputs": [],
   "source": [
    "x = df.drop([\"Fuel Type\",'Fuel Consumption',\"Vehicle Class\",\"Transmission\"], axis = 1)"
   ]
  },
  {
   "cell_type": "code",
   "execution_count": 38,
   "id": "efca0d44",
   "metadata": {
    "ExecuteTime": {
     "end_time": "2023-03-22T09:48:02.230826Z",
     "start_time": "2023-03-22T09:48:02.202808Z"
    },
    "id": "efca0d44",
    "outputId": "9c19581e-b1bf-4996-d4df-b60210bb523d"
   },
   "outputs": [
    {
     "data": {
      "text/html": [
       "<div>\n",
       "<style scoped>\n",
       "    .dataframe tbody tr th:only-of-type {\n",
       "        vertical-align: middle;\n",
       "    }\n",
       "\n",
       "    .dataframe tbody tr th {\n",
       "        vertical-align: top;\n",
       "    }\n",
       "\n",
       "    .dataframe thead th {\n",
       "        text-align: right;\n",
       "    }\n",
       "</style>\n",
       "<table border=\"1\" class=\"dataframe\">\n",
       "  <thead>\n",
       "    <tr style=\"text-align: right;\">\n",
       "      <th></th>\n",
       "      <th>Engine Size</th>\n",
       "      <th>Cylinders</th>\n",
       "      <th>CO2 Rating</th>\n",
       "      <th>Transmission_X</th>\n",
       "      <th>Vehicle Class_X</th>\n",
       "      <th>D</th>\n",
       "      <th>E</th>\n",
       "      <th>X</th>\n",
       "      <th>Z</th>\n",
       "    </tr>\n",
       "  </thead>\n",
       "  <tbody>\n",
       "    <tr>\n",
       "      <th>0</th>\n",
       "      <td>2.4</td>\n",
       "      <td>4</td>\n",
       "      <td>6.0</td>\n",
       "      <td>1.0</td>\n",
       "      <td>2.0</td>\n",
       "      <td>0</td>\n",
       "      <td>0</td>\n",
       "      <td>0</td>\n",
       "      <td>1</td>\n",
       "    </tr>\n",
       "    <tr>\n",
       "      <th>1</th>\n",
       "      <td>3.5</td>\n",
       "      <td>6</td>\n",
       "      <td>4.0</td>\n",
       "      <td>3.0</td>\n",
       "      <td>6.0</td>\n",
       "      <td>0</td>\n",
       "      <td>0</td>\n",
       "      <td>0</td>\n",
       "      <td>1</td>\n",
       "    </tr>\n",
       "    <tr>\n",
       "      <th>2</th>\n",
       "      <td>2.0</td>\n",
       "      <td>4</td>\n",
       "      <td>5.0</td>\n",
       "      <td>3.0</td>\n",
       "      <td>6.0</td>\n",
       "      <td>0</td>\n",
       "      <td>0</td>\n",
       "      <td>0</td>\n",
       "      <td>1</td>\n",
       "    </tr>\n",
       "    <tr>\n",
       "      <th>3</th>\n",
       "      <td>2.0</td>\n",
       "      <td>4</td>\n",
       "      <td>5.0</td>\n",
       "      <td>3.0</td>\n",
       "      <td>6.0</td>\n",
       "      <td>0</td>\n",
       "      <td>0</td>\n",
       "      <td>0</td>\n",
       "      <td>1</td>\n",
       "    </tr>\n",
       "    <tr>\n",
       "      <th>4</th>\n",
       "      <td>2.0</td>\n",
       "      <td>4</td>\n",
       "      <td>5.0</td>\n",
       "      <td>3.0</td>\n",
       "      <td>2.0</td>\n",
       "      <td>0</td>\n",
       "      <td>0</td>\n",
       "      <td>0</td>\n",
       "      <td>1</td>\n",
       "    </tr>\n",
       "  </tbody>\n",
       "</table>\n",
       "</div>"
      ],
      "text/plain": [
       "   Engine Size  Cylinders  CO2 Rating  Transmission_X  Vehicle Class_X  D  E  \\\n",
       "0          2.4          4         6.0             1.0              2.0  0  0   \n",
       "1          3.5          6         4.0             3.0              6.0  0  0   \n",
       "2          2.0          4         5.0             3.0              6.0  0  0   \n",
       "3          2.0          4         5.0             3.0              6.0  0  0   \n",
       "4          2.0          4         5.0             3.0              2.0  0  0   \n",
       "\n",
       "   X  Z  \n",
       "0  0  1  \n",
       "1  0  1  \n",
       "2  0  1  \n",
       "3  0  1  \n",
       "4  0  1  "
      ]
     },
     "execution_count": 38,
     "metadata": {},
     "output_type": "execute_result"
    }
   ],
   "source": [
    "x.head()"
   ]
  },
  {
   "cell_type": "code",
   "execution_count": 39,
   "id": "09fbbafe",
   "metadata": {
    "ExecuteTime": {
     "end_time": "2023-03-22T09:48:02.246357Z",
     "start_time": "2023-03-22T09:48:02.231825Z"
    },
    "id": "09fbbafe"
   },
   "outputs": [],
   "source": [
    "y= df['Fuel Consumption']"
   ]
  },
  {
   "cell_type": "code",
   "execution_count": 40,
   "id": "91760442",
   "metadata": {
    "ExecuteTime": {
     "end_time": "2023-03-22T09:48:02.262382Z",
     "start_time": "2023-03-22T09:48:02.248354Z"
    },
    "id": "91760442",
    "outputId": "9b0b5444-9d76-46ae-9ed5-1977ffc41f00"
   },
   "outputs": [
    {
     "data": {
      "text/html": [
       "<div>\n",
       "<style scoped>\n",
       "    .dataframe tbody tr th:only-of-type {\n",
       "        vertical-align: middle;\n",
       "    }\n",
       "\n",
       "    .dataframe tbody tr th {\n",
       "        vertical-align: top;\n",
       "    }\n",
       "\n",
       "    .dataframe thead th {\n",
       "        text-align: right;\n",
       "    }\n",
       "</style>\n",
       "<table border=\"1\" class=\"dataframe\">\n",
       "  <thead>\n",
       "    <tr style=\"text-align: right;\">\n",
       "      <th></th>\n",
       "      <th>Fuel Consumption</th>\n",
       "    </tr>\n",
       "  </thead>\n",
       "  <tbody>\n",
       "    <tr>\n",
       "      <th>0</th>\n",
       "      <td>8.6</td>\n",
       "    </tr>\n",
       "    <tr>\n",
       "      <th>1</th>\n",
       "      <td>11.2</td>\n",
       "    </tr>\n",
       "    <tr>\n",
       "      <th>2</th>\n",
       "      <td>9.9</td>\n",
       "    </tr>\n",
       "    <tr>\n",
       "      <th>3</th>\n",
       "      <td>10.3</td>\n",
       "    </tr>\n",
       "    <tr>\n",
       "      <th>4</th>\n",
       "      <td>9.8</td>\n",
       "    </tr>\n",
       "  </tbody>\n",
       "</table>\n",
       "</div>"
      ],
      "text/plain": [
       "   Fuel Consumption\n",
       "0               8.6\n",
       "1              11.2\n",
       "2               9.9\n",
       "3              10.3\n",
       "4               9.8"
      ]
     },
     "execution_count": 40,
     "metadata": {},
     "output_type": "execute_result"
    }
   ],
   "source": [
    "y.head().to_frame()"
   ]
  },
  {
   "cell_type": "code",
   "execution_count": 41,
   "id": "eee3328c",
   "metadata": {
    "ExecuteTime": {
     "end_time": "2023-03-22T09:48:02.277853Z",
     "start_time": "2023-03-22T09:48:02.263378Z"
    },
    "id": "eee3328c"
   },
   "outputs": [],
   "source": [
    "#from sklearn.model_selection import train_test_split\n",
    "xtrain, xtest, ytrain, ytest = train_test_split(x,y, test_size= 0.2 , random_state= 51)"
   ]
  },
  {
   "cell_type": "code",
   "execution_count": 42,
   "id": "f1ba16ff",
   "metadata": {
    "ExecuteTime": {
     "end_time": "2023-03-22T09:48:02.309565Z",
     "start_time": "2023-03-22T09:48:02.279360Z"
    },
    "id": "f1ba16ff",
    "outputId": "58911f4c-7453-46a9-8009-1493229108d3"
   },
   "outputs": [
    {
     "data": {
      "text/html": [
       "<div>\n",
       "<style scoped>\n",
       "    .dataframe tbody tr th:only-of-type {\n",
       "        vertical-align: middle;\n",
       "    }\n",
       "\n",
       "    .dataframe tbody tr th {\n",
       "        vertical-align: top;\n",
       "    }\n",
       "\n",
       "    .dataframe thead th {\n",
       "        text-align: right;\n",
       "    }\n",
       "</style>\n",
       "<table border=\"1\" class=\"dataframe\">\n",
       "  <thead>\n",
       "    <tr style=\"text-align: right;\">\n",
       "      <th></th>\n",
       "      <th>Engine Size</th>\n",
       "      <th>Cylinders</th>\n",
       "      <th>CO2 Rating</th>\n",
       "      <th>Transmission_X</th>\n",
       "      <th>Vehicle Class_X</th>\n",
       "      <th>D</th>\n",
       "      <th>E</th>\n",
       "      <th>X</th>\n",
       "      <th>Z</th>\n",
       "    </tr>\n",
       "  </thead>\n",
       "  <tbody>\n",
       "    <tr>\n",
       "      <th>350</th>\n",
       "      <td>2.3</td>\n",
       "      <td>4</td>\n",
       "      <td>5.0</td>\n",
       "      <td>2.0</td>\n",
       "      <td>3.0</td>\n",
       "      <td>0</td>\n",
       "      <td>0</td>\n",
       "      <td>1</td>\n",
       "      <td>0</td>\n",
       "    </tr>\n",
       "    <tr>\n",
       "      <th>735</th>\n",
       "      <td>2.5</td>\n",
       "      <td>4</td>\n",
       "      <td>6.0</td>\n",
       "      <td>0.0</td>\n",
       "      <td>6.0</td>\n",
       "      <td>0</td>\n",
       "      <td>0</td>\n",
       "      <td>1</td>\n",
       "      <td>0</td>\n",
       "    </tr>\n",
       "    <tr>\n",
       "      <th>453</th>\n",
       "      <td>2.0</td>\n",
       "      <td>4</td>\n",
       "      <td>7.0</td>\n",
       "      <td>0.0</td>\n",
       "      <td>4.0</td>\n",
       "      <td>0</td>\n",
       "      <td>0</td>\n",
       "      <td>1</td>\n",
       "      <td>0</td>\n",
       "    </tr>\n",
       "    <tr>\n",
       "      <th>918</th>\n",
       "      <td>3.6</td>\n",
       "      <td>6</td>\n",
       "      <td>4.0</td>\n",
       "      <td>3.0</td>\n",
       "      <td>6.0</td>\n",
       "      <td>0</td>\n",
       "      <td>0</td>\n",
       "      <td>1</td>\n",
       "      <td>0</td>\n",
       "    </tr>\n",
       "    <tr>\n",
       "      <th>455</th>\n",
       "      <td>2.0</td>\n",
       "      <td>4</td>\n",
       "      <td>5.0</td>\n",
       "      <td>1.0</td>\n",
       "      <td>4.0</td>\n",
       "      <td>0</td>\n",
       "      <td>0</td>\n",
       "      <td>0</td>\n",
       "      <td>1</td>\n",
       "    </tr>\n",
       "    <tr>\n",
       "      <th>...</th>\n",
       "      <td>...</td>\n",
       "      <td>...</td>\n",
       "      <td>...</td>\n",
       "      <td>...</td>\n",
       "      <td>...</td>\n",
       "      <td>...</td>\n",
       "      <td>...</td>\n",
       "      <td>...</td>\n",
       "      <td>...</td>\n",
       "    </tr>\n",
       "    <tr>\n",
       "      <th>526</th>\n",
       "      <td>3.6</td>\n",
       "      <td>6</td>\n",
       "      <td>4.0</td>\n",
       "      <td>4.0</td>\n",
       "      <td>6.0</td>\n",
       "      <td>0</td>\n",
       "      <td>0</td>\n",
       "      <td>1</td>\n",
       "      <td>0</td>\n",
       "    </tr>\n",
       "    <tr>\n",
       "      <th>624</th>\n",
       "      <td>3.0</td>\n",
       "      <td>6</td>\n",
       "      <td>4.0</td>\n",
       "      <td>3.0</td>\n",
       "      <td>0.0</td>\n",
       "      <td>0</td>\n",
       "      <td>0</td>\n",
       "      <td>0</td>\n",
       "      <td>1</td>\n",
       "    </tr>\n",
       "    <tr>\n",
       "      <th>727</th>\n",
       "      <td>1.6</td>\n",
       "      <td>4</td>\n",
       "      <td>7.0</td>\n",
       "      <td>0.0</td>\n",
       "      <td>4.0</td>\n",
       "      <td>0</td>\n",
       "      <td>0</td>\n",
       "      <td>1</td>\n",
       "      <td>0</td>\n",
       "    </tr>\n",
       "    <tr>\n",
       "      <th>677</th>\n",
       "      <td>3.0</td>\n",
       "      <td>6</td>\n",
       "      <td>5.0</td>\n",
       "      <td>4.0</td>\n",
       "      <td>4.0</td>\n",
       "      <td>0</td>\n",
       "      <td>0</td>\n",
       "      <td>0</td>\n",
       "      <td>1</td>\n",
       "    </tr>\n",
       "    <tr>\n",
       "      <th>77</th>\n",
       "      <td>4.4</td>\n",
       "      <td>8</td>\n",
       "      <td>4.0</td>\n",
       "      <td>3.0</td>\n",
       "      <td>5.0</td>\n",
       "      <td>0</td>\n",
       "      <td>0</td>\n",
       "      <td>0</td>\n",
       "      <td>1</td>\n",
       "    </tr>\n",
       "  </tbody>\n",
       "</table>\n",
       "<p>548 rows × 9 columns</p>\n",
       "</div>"
      ],
      "text/plain": [
       "     Engine Size  Cylinders  CO2 Rating  Transmission_X  Vehicle Class_X  D  \\\n",
       "350          2.3          4         5.0             2.0              3.0  0   \n",
       "735          2.5          4         6.0             0.0              6.0  0   \n",
       "453          2.0          4         7.0             0.0              4.0  0   \n",
       "918          3.6          6         4.0             3.0              6.0  0   \n",
       "455          2.0          4         5.0             1.0              4.0  0   \n",
       "..           ...        ...         ...             ...              ... ..   \n",
       "526          3.6          6         4.0             4.0              6.0  0   \n",
       "624          3.0          6         4.0             3.0              0.0  0   \n",
       "727          1.6          4         7.0             0.0              4.0  0   \n",
       "677          3.0          6         5.0             4.0              4.0  0   \n",
       "77           4.4          8         4.0             3.0              5.0  0   \n",
       "\n",
       "     E  X  Z  \n",
       "350  0  1  0  \n",
       "735  0  1  0  \n",
       "453  0  1  0  \n",
       "918  0  1  0  \n",
       "455  0  0  1  \n",
       "..  .. .. ..  \n",
       "526  0  1  0  \n",
       "624  0  0  1  \n",
       "727  0  1  0  \n",
       "677  0  0  1  \n",
       "77   0  0  1  \n",
       "\n",
       "[548 rows x 9 columns]"
      ]
     },
     "execution_count": 42,
     "metadata": {},
     "output_type": "execute_result"
    }
   ],
   "source": [
    "xtrain"
   ]
  },
  {
   "cell_type": "code",
   "execution_count": 43,
   "id": "c774adf3",
   "metadata": {
    "ExecuteTime": {
     "end_time": "2023-03-22T09:48:02.324642Z",
     "start_time": "2023-03-22T09:48:02.312560Z"
    },
    "id": "c774adf3"
   },
   "outputs": [],
   "source": [
    "sc = StandardScaler()\n",
    "xtrain = sc.fit_transform(xtrain)"
   ]
  },
  {
   "cell_type": "code",
   "execution_count": 44,
   "id": "45ec62e2",
   "metadata": {
    "ExecuteTime": {
     "end_time": "2023-03-22T09:48:02.355840Z",
     "start_time": "2023-03-22T09:48:02.341855Z"
    },
    "id": "45ec62e2",
    "outputId": "eff082d7-04e1-44e7-e5f8-4fc797476e90"
   },
   "outputs": [
    {
     "data": {
      "text/plain": [
       "array([[-0.48093512, -0.79196824,  0.10970892, ..., -0.07419291,\n",
       "         0.92948673, -0.87620884],\n",
       "       [-0.29002426, -0.79196824,  0.86121505, ..., -0.07419291,\n",
       "         0.92948673, -0.87620884],\n",
       "       [-0.76730141, -0.79196824,  1.61272118, ..., -0.07419291,\n",
       "         0.92948673, -0.87620884],\n",
       "       ...,\n",
       "       [-1.14912313, -0.79196824,  1.61272118, ..., -0.07419291,\n",
       "         0.92948673, -0.87620884],\n",
       "       [ 0.1872529 ,  0.57066471,  0.10970892, ..., -0.07419291,\n",
       "        -1.07586259,  1.14128042],\n",
       "       [ 1.52362893,  1.93329767, -0.6417972 , ..., -0.07419291,\n",
       "        -1.07586259,  1.14128042]])"
      ]
     },
     "execution_count": 44,
     "metadata": {},
     "output_type": "execute_result"
    }
   ],
   "source": [
    "xtrain"
   ]
  },
  {
   "cell_type": "code",
   "execution_count": 45,
   "id": "0418858b",
   "metadata": {
    "ExecuteTime": {
     "end_time": "2023-03-22T09:48:02.371074Z",
     "start_time": "2023-03-22T09:48:02.357834Z"
    },
    "id": "0418858b"
   },
   "outputs": [],
   "source": [
    "xtest = sc.transform(xtest)"
   ]
  },
  {
   "cell_type": "code",
   "execution_count": 46,
   "id": "d323363f",
   "metadata": {
    "ExecuteTime": {
     "end_time": "2023-03-22T09:48:02.386460Z",
     "start_time": "2023-03-22T09:48:02.373071Z"
    },
    "id": "d323363f",
    "outputId": "6f3a038e-9826-4f99-d6cf-372e83b0e8e2"
   },
   "outputs": [
    {
     "data": {
      "text/plain": [
       "array([[-0.76730141, -0.79196824,  0.86121505, ..., -0.07419291,\n",
       "        -1.07586259,  1.14128042],\n",
       "       [-0.29002426, -0.79196824,  0.86121505, ..., -0.07419291,\n",
       "         0.92948673, -0.87620884],\n",
       "       [ 0.75998548,  0.57066471, -1.39330333, ..., -0.07419291,\n",
       "        -1.07586259,  1.14128042],\n",
       "       ...,\n",
       "       [-0.76730141, -0.79196824,  0.86121505, ..., -0.07419291,\n",
       "        -1.07586259,  1.14128042],\n",
       "       [ 0.1872529 ,  0.57066471, -0.6417972 , ..., -0.07419291,\n",
       "         0.92948673, -0.87620884],\n",
       "       [-1.14912313, -0.79196824,  3.11573344, ..., -0.07419291,\n",
       "         0.92948673, -0.87620884]])"
      ]
     },
     "execution_count": 46,
     "metadata": {},
     "output_type": "execute_result"
    }
   ],
   "source": [
    "xtest"
   ]
  },
  {
   "cell_type": "markdown",
   "id": "XzVJmesnOGQc",
   "metadata": {
    "id": "XzVJmesnOGQc"
   },
   "source": [
    "# Linear Regression"
   ]
  },
  {
   "cell_type": "code",
   "execution_count": 47,
   "id": "c114c350",
   "metadata": {
    "ExecuteTime": {
     "end_time": "2023-03-22T09:48:02.417878Z",
     "start_time": "2023-03-22T09:48:02.402868Z"
    },
    "id": "c114c350",
    "outputId": "3db5ff46-b9c8-43ef-e0b9-673f4fd0e333"
   },
   "outputs": [
    {
     "data": {
      "text/html": [
       "<style>#sk-container-id-1 {color: black;background-color: white;}#sk-container-id-1 pre{padding: 0;}#sk-container-id-1 div.sk-toggleable {background-color: white;}#sk-container-id-1 label.sk-toggleable__label {cursor: pointer;display: block;width: 100%;margin-bottom: 0;padding: 0.3em;box-sizing: border-box;text-align: center;}#sk-container-id-1 label.sk-toggleable__label-arrow:before {content: \"▸\";float: left;margin-right: 0.25em;color: #696969;}#sk-container-id-1 label.sk-toggleable__label-arrow:hover:before {color: black;}#sk-container-id-1 div.sk-estimator:hover label.sk-toggleable__label-arrow:before {color: black;}#sk-container-id-1 div.sk-toggleable__content {max-height: 0;max-width: 0;overflow: hidden;text-align: left;background-color: #f0f8ff;}#sk-container-id-1 div.sk-toggleable__content pre {margin: 0.2em;color: black;border-radius: 0.25em;background-color: #f0f8ff;}#sk-container-id-1 input.sk-toggleable__control:checked~div.sk-toggleable__content {max-height: 200px;max-width: 100%;overflow: auto;}#sk-container-id-1 input.sk-toggleable__control:checked~label.sk-toggleable__label-arrow:before {content: \"▾\";}#sk-container-id-1 div.sk-estimator input.sk-toggleable__control:checked~label.sk-toggleable__label {background-color: #d4ebff;}#sk-container-id-1 div.sk-label input.sk-toggleable__control:checked~label.sk-toggleable__label {background-color: #d4ebff;}#sk-container-id-1 input.sk-hidden--visually {border: 0;clip: rect(1px 1px 1px 1px);clip: rect(1px, 1px, 1px, 1px);height: 1px;margin: -1px;overflow: hidden;padding: 0;position: absolute;width: 1px;}#sk-container-id-1 div.sk-estimator {font-family: monospace;background-color: #f0f8ff;border: 1px dotted black;border-radius: 0.25em;box-sizing: border-box;margin-bottom: 0.5em;}#sk-container-id-1 div.sk-estimator:hover {background-color: #d4ebff;}#sk-container-id-1 div.sk-parallel-item::after {content: \"\";width: 100%;border-bottom: 1px solid gray;flex-grow: 1;}#sk-container-id-1 div.sk-label:hover label.sk-toggleable__label {background-color: #d4ebff;}#sk-container-id-1 div.sk-serial::before {content: \"\";position: absolute;border-left: 1px solid gray;box-sizing: border-box;top: 0;bottom: 0;left: 50%;z-index: 0;}#sk-container-id-1 div.sk-serial {display: flex;flex-direction: column;align-items: center;background-color: white;padding-right: 0.2em;padding-left: 0.2em;position: relative;}#sk-container-id-1 div.sk-item {position: relative;z-index: 1;}#sk-container-id-1 div.sk-parallel {display: flex;align-items: stretch;justify-content: center;background-color: white;position: relative;}#sk-container-id-1 div.sk-item::before, #sk-container-id-1 div.sk-parallel-item::before {content: \"\";position: absolute;border-left: 1px solid gray;box-sizing: border-box;top: 0;bottom: 0;left: 50%;z-index: -1;}#sk-container-id-1 div.sk-parallel-item {display: flex;flex-direction: column;z-index: 1;position: relative;background-color: white;}#sk-container-id-1 div.sk-parallel-item:first-child::after {align-self: flex-end;width: 50%;}#sk-container-id-1 div.sk-parallel-item:last-child::after {align-self: flex-start;width: 50%;}#sk-container-id-1 div.sk-parallel-item:only-child::after {width: 0;}#sk-container-id-1 div.sk-dashed-wrapped {border: 1px dashed gray;margin: 0 0.4em 0.5em 0.4em;box-sizing: border-box;padding-bottom: 0.4em;background-color: white;}#sk-container-id-1 div.sk-label label {font-family: monospace;font-weight: bold;display: inline-block;line-height: 1.2em;}#sk-container-id-1 div.sk-label-container {text-align: center;}#sk-container-id-1 div.sk-container {/* jupyter's `normalize.less` sets `[hidden] { display: none; }` but bootstrap.min.css set `[hidden] { display: none !important; }` so we also need the `!important` here to be able to override the default hidden behavior on the sphinx rendered scikit-learn.org. See: https://github.com/scikit-learn/scikit-learn/issues/21755 */display: inline-block !important;position: relative;}#sk-container-id-1 div.sk-text-repr-fallback {display: none;}</style><div id=\"sk-container-id-1\" class=\"sk-top-container\"><div class=\"sk-text-repr-fallback\"><pre>LinearRegression()</pre><b>In a Jupyter environment, please rerun this cell to show the HTML representation or trust the notebook. <br />On GitHub, the HTML representation is unable to render, please try loading this page with nbviewer.org.</b></div><div class=\"sk-container\" hidden><div class=\"sk-item\"><div class=\"sk-estimator sk-toggleable\"><input class=\"sk-toggleable__control sk-hidden--visually\" id=\"sk-estimator-id-1\" type=\"checkbox\" checked><label for=\"sk-estimator-id-1\" class=\"sk-toggleable__label sk-toggleable__label-arrow\">LinearRegression</label><div class=\"sk-toggleable__content\"><pre>LinearRegression()</pre></div></div></div></div></div>"
      ],
      "text/plain": [
       "LinearRegression()"
      ]
     },
     "execution_count": 47,
     "metadata": {},
     "output_type": "execute_result"
    }
   ],
   "source": [
    "lr = LinearRegression()\n",
    "lr.fit(xtrain,ytrain)"
   ]
  },
  {
   "cell_type": "code",
   "execution_count": 48,
   "id": "a817ee71",
   "metadata": {
    "ExecuteTime": {
     "end_time": "2023-03-22T09:48:02.433885Z",
     "start_time": "2023-03-22T09:48:02.419385Z"
    },
    "id": "a817ee71",
    "outputId": "ce8ce4a3-5acc-4c92-b3ae-33d8438f45fc"
   },
   "outputs": [
    {
     "data": {
      "text/plain": [
       "10.373249771813956"
      ]
     },
     "execution_count": 48,
     "metadata": {},
     "output_type": "execute_result"
    }
   ],
   "source": [
    "lr.intercept_"
   ]
  },
  {
   "cell_type": "code",
   "execution_count": 49,
   "id": "8cb4eef7",
   "metadata": {
    "ExecuteTime": {
     "end_time": "2023-03-22T09:48:02.449374Z",
     "start_time": "2023-03-22T09:48:02.435880Z"
    },
    "id": "8cb4eef7",
    "outputId": "d379851a-35f0-41ad-f67a-b5871756b6b4",
    "scrolled": true
   },
   "outputs": [
    {
     "name": "stdout",
     "output_type": "stream",
     "text": [
      "training score =  0.9412133209586168\n"
     ]
    }
   ],
   "source": [
    "print(\"training score = \",lr.score(xtrain,ytrain))"
   ]
  },
  {
   "cell_type": "code",
   "execution_count": 59,
   "id": "ec7ae667",
   "metadata": {
    "ExecuteTime": {
     "end_time": "2023-03-22T09:48:02.465473Z",
     "start_time": "2023-03-22T09:48:02.450750Z"
    },
    "id": "ec7ae667",
    "outputId": "60b1d76a-85a2-442a-fd09-0bbfc2015524"
   },
   "outputs": [
    {
     "data": {
      "text/plain": [
       "0.9457650372669383"
      ]
     },
     "execution_count": 59,
     "metadata": {},
     "output_type": "execute_result"
    }
   ],
   "source": [
    "ypred_lr = lr.predict(xtest)\n",
    "r2_score(ytest, ypred_lr)"
   ]
  },
  {
   "cell_type": "code",
   "execution_count": 60,
   "id": "fee78666",
   "metadata": {},
   "outputs": [
    {
     "name": "stdout",
     "output_type": "stream",
     "text": [
      "Mean Absolute Error (MAE): 0.487\n",
      "Mean Squared Error (MSE): 0.344\n",
      "Root Mean Squared Error (RMSE): 0.586\n"
     ]
    }
   ],
   "source": [
    "mae = mean_absolute_error(ytest, ypred_lr)\n",
    "print(f\"Mean Absolute Error (MAE): {mae:.3f}\")\n",
    "\n",
    "mse = mean_squared_error(ytest, ypred_lr)\n",
    "print(f\"Mean Squared Error (MSE): {mse:.3f}\")\n",
    "\n",
    "rmse = mean_squared_error(ytest, ypred_lr, squared=False)  \n",
    "print(f\"Root Mean Squared Error (RMSE): {rmse:.3f}\")"
   ]
  },
  {
   "cell_type": "markdown",
   "id": "aCgxpkEdOJ9A",
   "metadata": {
    "id": "aCgxpkEdOJ9A"
   },
   "source": [
    "# Decision Tree Regressor"
   ]
  },
  {
   "cell_type": "code",
   "execution_count": 56,
   "id": "0014feb2",
   "metadata": {
    "ExecuteTime": {
     "end_time": "2023-03-22T09:48:02.495994Z",
     "start_time": "2023-03-22T09:48:02.482300Z"
    },
    "id": "0014feb2",
    "outputId": "a46e5fb3-8ff6-41a3-ac30-f235bb9bef54"
   },
   "outputs": [
    {
     "data": {
      "text/html": [
       "<style>#sk-container-id-2 {color: black;background-color: white;}#sk-container-id-2 pre{padding: 0;}#sk-container-id-2 div.sk-toggleable {background-color: white;}#sk-container-id-2 label.sk-toggleable__label {cursor: pointer;display: block;width: 100%;margin-bottom: 0;padding: 0.3em;box-sizing: border-box;text-align: center;}#sk-container-id-2 label.sk-toggleable__label-arrow:before {content: \"▸\";float: left;margin-right: 0.25em;color: #696969;}#sk-container-id-2 label.sk-toggleable__label-arrow:hover:before {color: black;}#sk-container-id-2 div.sk-estimator:hover label.sk-toggleable__label-arrow:before {color: black;}#sk-container-id-2 div.sk-toggleable__content {max-height: 0;max-width: 0;overflow: hidden;text-align: left;background-color: #f0f8ff;}#sk-container-id-2 div.sk-toggleable__content pre {margin: 0.2em;color: black;border-radius: 0.25em;background-color: #f0f8ff;}#sk-container-id-2 input.sk-toggleable__control:checked~div.sk-toggleable__content {max-height: 200px;max-width: 100%;overflow: auto;}#sk-container-id-2 input.sk-toggleable__control:checked~label.sk-toggleable__label-arrow:before {content: \"▾\";}#sk-container-id-2 div.sk-estimator input.sk-toggleable__control:checked~label.sk-toggleable__label {background-color: #d4ebff;}#sk-container-id-2 div.sk-label input.sk-toggleable__control:checked~label.sk-toggleable__label {background-color: #d4ebff;}#sk-container-id-2 input.sk-hidden--visually {border: 0;clip: rect(1px 1px 1px 1px);clip: rect(1px, 1px, 1px, 1px);height: 1px;margin: -1px;overflow: hidden;padding: 0;position: absolute;width: 1px;}#sk-container-id-2 div.sk-estimator {font-family: monospace;background-color: #f0f8ff;border: 1px dotted black;border-radius: 0.25em;box-sizing: border-box;margin-bottom: 0.5em;}#sk-container-id-2 div.sk-estimator:hover {background-color: #d4ebff;}#sk-container-id-2 div.sk-parallel-item::after {content: \"\";width: 100%;border-bottom: 1px solid gray;flex-grow: 1;}#sk-container-id-2 div.sk-label:hover label.sk-toggleable__label {background-color: #d4ebff;}#sk-container-id-2 div.sk-serial::before {content: \"\";position: absolute;border-left: 1px solid gray;box-sizing: border-box;top: 0;bottom: 0;left: 50%;z-index: 0;}#sk-container-id-2 div.sk-serial {display: flex;flex-direction: column;align-items: center;background-color: white;padding-right: 0.2em;padding-left: 0.2em;position: relative;}#sk-container-id-2 div.sk-item {position: relative;z-index: 1;}#sk-container-id-2 div.sk-parallel {display: flex;align-items: stretch;justify-content: center;background-color: white;position: relative;}#sk-container-id-2 div.sk-item::before, #sk-container-id-2 div.sk-parallel-item::before {content: \"\";position: absolute;border-left: 1px solid gray;box-sizing: border-box;top: 0;bottom: 0;left: 50%;z-index: -1;}#sk-container-id-2 div.sk-parallel-item {display: flex;flex-direction: column;z-index: 1;position: relative;background-color: white;}#sk-container-id-2 div.sk-parallel-item:first-child::after {align-self: flex-end;width: 50%;}#sk-container-id-2 div.sk-parallel-item:last-child::after {align-self: flex-start;width: 50%;}#sk-container-id-2 div.sk-parallel-item:only-child::after {width: 0;}#sk-container-id-2 div.sk-dashed-wrapped {border: 1px dashed gray;margin: 0 0.4em 0.5em 0.4em;box-sizing: border-box;padding-bottom: 0.4em;background-color: white;}#sk-container-id-2 div.sk-label label {font-family: monospace;font-weight: bold;display: inline-block;line-height: 1.2em;}#sk-container-id-2 div.sk-label-container {text-align: center;}#sk-container-id-2 div.sk-container {/* jupyter's `normalize.less` sets `[hidden] { display: none; }` but bootstrap.min.css set `[hidden] { display: none !important; }` so we also need the `!important` here to be able to override the default hidden behavior on the sphinx rendered scikit-learn.org. See: https://github.com/scikit-learn/scikit-learn/issues/21755 */display: inline-block !important;position: relative;}#sk-container-id-2 div.sk-text-repr-fallback {display: none;}</style><div id=\"sk-container-id-2\" class=\"sk-top-container\"><div class=\"sk-text-repr-fallback\"><pre>DecisionTreeRegressor(max_depth=4)</pre><b>In a Jupyter environment, please rerun this cell to show the HTML representation or trust the notebook. <br />On GitHub, the HTML representation is unable to render, please try loading this page with nbviewer.org.</b></div><div class=\"sk-container\" hidden><div class=\"sk-item\"><div class=\"sk-estimator sk-toggleable\"><input class=\"sk-toggleable__control sk-hidden--visually\" id=\"sk-estimator-id-2\" type=\"checkbox\" checked><label for=\"sk-estimator-id-2\" class=\"sk-toggleable__label sk-toggleable__label-arrow\">DecisionTreeRegressor</label><div class=\"sk-toggleable__content\"><pre>DecisionTreeRegressor(max_depth=4)</pre></div></div></div></div></div>"
      ],
      "text/plain": [
       "DecisionTreeRegressor(max_depth=4)"
      ]
     },
     "execution_count": 56,
     "metadata": {},
     "output_type": "execute_result"
    }
   ],
   "source": [
    "dc=DecisionTreeRegressor(max_depth=4)\n",
    "dc.fit(xtrain,ytrain)"
   ]
  },
  {
   "cell_type": "code",
   "execution_count": 61,
   "id": "21e3acd0",
   "metadata": {
    "ExecuteTime": {
     "end_time": "2023-03-22T09:48:02.542211Z",
     "start_time": "2023-03-22T09:48:02.529017Z"
    },
    "id": "21e3acd0",
    "outputId": "711dd32b-582e-46d2-c291-69d92bfd1fe9"
   },
   "outputs": [
    {
     "name": "stdout",
     "output_type": "stream",
     "text": [
      "training score =  0.9508619132931724\n"
     ]
    }
   ],
   "source": [
    "print(\"training score = \",dc.score(xtrain,ytrain))"
   ]
  },
  {
   "cell_type": "code",
   "execution_count": 62,
   "id": "7b2f5126",
   "metadata": {
    "ExecuteTime": {
     "end_time": "2023-03-22T09:48:02.558024Z",
     "start_time": "2023-03-22T09:48:02.543208Z"
    },
    "id": "7b2f5126",
    "outputId": "2798003e-9ced-4962-8b08-9ffa44e6318e",
    "scrolled": true
   },
   "outputs": [
    {
     "data": {
      "text/plain": [
       "0.9519808439233731"
      ]
     },
     "execution_count": 62,
     "metadata": {},
     "output_type": "execute_result"
    }
   ],
   "source": [
    "ypred_dc=dc.predict(xtest)\n",
    "r2_score(ytest, ypred_dc)"
   ]
  },
  {
   "cell_type": "code",
   "execution_count": 63,
   "id": "21e1b054",
   "metadata": {},
   "outputs": [
    {
     "name": "stdout",
     "output_type": "stream",
     "text": [
      "Mean Absolute Error (MAE): 0.448\n",
      "Mean Squared Error (MSE): 0.304\n",
      "Root Mean Squared Error (RMSE): 0.552\n"
     ]
    }
   ],
   "source": [
    "mae = mean_absolute_error(ytest, ypred_dc)\n",
    "print(f\"Mean Absolute Error (MAE): {mae:.3f}\")\n",
    "\n",
    "mse = mean_squared_error(ytest, ypred_dc)\n",
    "print(f\"Mean Squared Error (MSE): {mse:.3f}\")\n",
    "\n",
    "rmse = mean_squared_error(ytest, ypred_dc, squared=False)  \n",
    "print(f\"Root Mean Squared Error (RMSE): {rmse:.3f}\")"
   ]
  },
  {
   "cell_type": "markdown",
   "id": "420858ac",
   "metadata": {
    "id": "420858ac"
   },
   "source": [
    "# Random Forest Regressor\n"
   ]
  },
  {
   "cell_type": "code",
   "execution_count": 66,
   "id": "ac6ae5b4",
   "metadata": {
    "ExecuteTime": {
     "end_time": "2023-03-22T09:48:04.134845Z",
     "start_time": "2023-03-22T09:48:04.121370Z"
    },
    "id": "ac6ae5b4"
   },
   "outputs": [
    {
     "data": {
      "text/html": [
       "<style>#sk-container-id-3 {color: black;background-color: white;}#sk-container-id-3 pre{padding: 0;}#sk-container-id-3 div.sk-toggleable {background-color: white;}#sk-container-id-3 label.sk-toggleable__label {cursor: pointer;display: block;width: 100%;margin-bottom: 0;padding: 0.3em;box-sizing: border-box;text-align: center;}#sk-container-id-3 label.sk-toggleable__label-arrow:before {content: \"▸\";float: left;margin-right: 0.25em;color: #696969;}#sk-container-id-3 label.sk-toggleable__label-arrow:hover:before {color: black;}#sk-container-id-3 div.sk-estimator:hover label.sk-toggleable__label-arrow:before {color: black;}#sk-container-id-3 div.sk-toggleable__content {max-height: 0;max-width: 0;overflow: hidden;text-align: left;background-color: #f0f8ff;}#sk-container-id-3 div.sk-toggleable__content pre {margin: 0.2em;color: black;border-radius: 0.25em;background-color: #f0f8ff;}#sk-container-id-3 input.sk-toggleable__control:checked~div.sk-toggleable__content {max-height: 200px;max-width: 100%;overflow: auto;}#sk-container-id-3 input.sk-toggleable__control:checked~label.sk-toggleable__label-arrow:before {content: \"▾\";}#sk-container-id-3 div.sk-estimator input.sk-toggleable__control:checked~label.sk-toggleable__label {background-color: #d4ebff;}#sk-container-id-3 div.sk-label input.sk-toggleable__control:checked~label.sk-toggleable__label {background-color: #d4ebff;}#sk-container-id-3 input.sk-hidden--visually {border: 0;clip: rect(1px 1px 1px 1px);clip: rect(1px, 1px, 1px, 1px);height: 1px;margin: -1px;overflow: hidden;padding: 0;position: absolute;width: 1px;}#sk-container-id-3 div.sk-estimator {font-family: monospace;background-color: #f0f8ff;border: 1px dotted black;border-radius: 0.25em;box-sizing: border-box;margin-bottom: 0.5em;}#sk-container-id-3 div.sk-estimator:hover {background-color: #d4ebff;}#sk-container-id-3 div.sk-parallel-item::after {content: \"\";width: 100%;border-bottom: 1px solid gray;flex-grow: 1;}#sk-container-id-3 div.sk-label:hover label.sk-toggleable__label {background-color: #d4ebff;}#sk-container-id-3 div.sk-serial::before {content: \"\";position: absolute;border-left: 1px solid gray;box-sizing: border-box;top: 0;bottom: 0;left: 50%;z-index: 0;}#sk-container-id-3 div.sk-serial {display: flex;flex-direction: column;align-items: center;background-color: white;padding-right: 0.2em;padding-left: 0.2em;position: relative;}#sk-container-id-3 div.sk-item {position: relative;z-index: 1;}#sk-container-id-3 div.sk-parallel {display: flex;align-items: stretch;justify-content: center;background-color: white;position: relative;}#sk-container-id-3 div.sk-item::before, #sk-container-id-3 div.sk-parallel-item::before {content: \"\";position: absolute;border-left: 1px solid gray;box-sizing: border-box;top: 0;bottom: 0;left: 50%;z-index: -1;}#sk-container-id-3 div.sk-parallel-item {display: flex;flex-direction: column;z-index: 1;position: relative;background-color: white;}#sk-container-id-3 div.sk-parallel-item:first-child::after {align-self: flex-end;width: 50%;}#sk-container-id-3 div.sk-parallel-item:last-child::after {align-self: flex-start;width: 50%;}#sk-container-id-3 div.sk-parallel-item:only-child::after {width: 0;}#sk-container-id-3 div.sk-dashed-wrapped {border: 1px dashed gray;margin: 0 0.4em 0.5em 0.4em;box-sizing: border-box;padding-bottom: 0.4em;background-color: white;}#sk-container-id-3 div.sk-label label {font-family: monospace;font-weight: bold;display: inline-block;line-height: 1.2em;}#sk-container-id-3 div.sk-label-container {text-align: center;}#sk-container-id-3 div.sk-container {/* jupyter's `normalize.less` sets `[hidden] { display: none; }` but bootstrap.min.css set `[hidden] { display: none !important; }` so we also need the `!important` here to be able to override the default hidden behavior on the sphinx rendered scikit-learn.org. See: https://github.com/scikit-learn/scikit-learn/issues/21755 */display: inline-block !important;position: relative;}#sk-container-id-3 div.sk-text-repr-fallback {display: none;}</style><div id=\"sk-container-id-3\" class=\"sk-top-container\"><div class=\"sk-text-repr-fallback\"><pre>RandomForestRegressor()</pre><b>In a Jupyter environment, please rerun this cell to show the HTML representation or trust the notebook. <br />On GitHub, the HTML representation is unable to render, please try loading this page with nbviewer.org.</b></div><div class=\"sk-container\" hidden><div class=\"sk-item\"><div class=\"sk-estimator sk-toggleable\"><input class=\"sk-toggleable__control sk-hidden--visually\" id=\"sk-estimator-id-3\" type=\"checkbox\" checked><label for=\"sk-estimator-id-3\" class=\"sk-toggleable__label sk-toggleable__label-arrow\">RandomForestRegressor</label><div class=\"sk-toggleable__content\"><pre>RandomForestRegressor()</pre></div></div></div></div></div>"
      ],
      "text/plain": [
       "RandomForestRegressor()"
      ]
     },
     "execution_count": 66,
     "metadata": {},
     "output_type": "execute_result"
    }
   ],
   "source": [
    "rf = RandomForestRegressor()\n",
    "rf.fit(xtrain,ytrain)"
   ]
  },
  {
   "cell_type": "code",
   "execution_count": 67,
   "id": "cb8292b0",
   "metadata": {
    "ExecuteTime": {
     "end_time": "2023-03-22T09:48:05.577431Z",
     "start_time": "2023-03-22T09:48:05.547236Z"
    },
    "id": "cb8292b0",
    "outputId": "f7d615c1-2e5d-4e4c-aac5-512048bc021c"
   },
   "outputs": [
    {
     "name": "stdout",
     "output_type": "stream",
     "text": [
      "training score =  0.9813226818259992\n"
     ]
    }
   ],
   "source": [
    "print(\"training score = \",rf.score(xtrain,ytrain))"
   ]
  },
  {
   "cell_type": "code",
   "execution_count": 69,
   "id": "44256146",
   "metadata": {
    "ExecuteTime": {
     "end_time": "2023-03-22T09:48:05.592157Z",
     "start_time": "2023-03-22T09:48:05.579427Z"
    },
    "id": "44256146",
    "outputId": "dcebb546-dbc5-4337-d6e5-3dbeb18283ff"
   },
   "outputs": [
    {
     "data": {
      "text/plain": [
       "0.9573129797901533"
      ]
     },
     "execution_count": 69,
     "metadata": {},
     "output_type": "execute_result"
    }
   ],
   "source": [
    "ypred_rf = rf.predict(xtest)\n",
    "r2_score(ytest,ypred_rf)"
   ]
  },
  {
   "cell_type": "code",
   "execution_count": 70,
   "id": "17903083",
   "metadata": {},
   "outputs": [
    {
     "name": "stdout",
     "output_type": "stream",
     "text": [
      "Mean Absolute Error (MAE): 0.405\n",
      "Mean Squared Error (MSE): 0.271\n",
      "Root Mean Squared Error (RMSE): 0.520\n"
     ]
    }
   ],
   "source": [
    "mae = mean_absolute_error(ytest, ypred_rf)\n",
    "print(f\"Mean Absolute Error (MAE): {mae:.3f}\")\n",
    "\n",
    "mse = mean_squared_error(ytest, ypred_rf)\n",
    "print(f\"Mean Squared Error (MSE): {mse:.3f}\")\n",
    "\n",
    "rmse = mean_squared_error(ytest, ypred_rf, squared=False)  \n",
    "print(f\"Root Mean Squared Error (RMSE): {rmse:.3f}\")"
   ]
  },
  {
   "cell_type": "markdown",
   "id": "snDQeo_HORCA",
   "metadata": {
    "id": "snDQeo_HORCA"
   },
   "source": [
    "# XG Boost Regressor"
   ]
  },
  {
   "cell_type": "code",
   "execution_count": 71,
   "id": "5816c91e",
   "metadata": {
    "id": "5816c91e",
    "outputId": "7e105348-5ea4-4a57-bc45-8b6cec5861ec"
   },
   "outputs": [
    {
     "data": {
      "text/plain": [
       "0.9575404627606433"
      ]
     },
     "execution_count": 71,
     "metadata": {},
     "output_type": "execute_result"
    }
   ],
   "source": [
    "xg = XGBRegressor(n_estimators = 9,max_depth=2,eta=0.89,subsample=0.8,num_parallel_tree=11)\n",
    "xg.fit(xtrain,ytrain)\n",
    "ypred_xg = xg.predict(xtest)\n",
    "r2_score(ytest,ypred_xg)"
   ]
  },
  {
   "cell_type": "code",
   "execution_count": 72,
   "id": "ac4da64e",
   "metadata": {},
   "outputs": [
    {
     "name": "stdout",
     "output_type": "stream",
     "text": [
      "Mean Absolute Error (MAE): 0.424\n",
      "Mean Squared Error (MSE): 0.269\n",
      "Root Mean Squared Error (RMSE): 0.519\n"
     ]
    }
   ],
   "source": [
    "mae = mean_absolute_error(ytest, ypred_xg)\n",
    "print(f\"Mean Absolute Error (MAE): {mae:.3f}\")\n",
    "\n",
    "mse = mean_squared_error(ytest, ypred_xg)\n",
    "print(f\"Mean Squared Error (MSE): {mse:.3f}\")\n",
    "\n",
    "rmse = mean_squared_error(ytest, ypred_xg, squared=False)  \n",
    "print(f\"Root Mean Squared Error (RMSE): {rmse:.3f}\")"
   ]
  },
  {
   "cell_type": "markdown",
   "id": "O9_QBez9OUp9",
   "metadata": {
    "id": "O9_QBez9OUp9"
   },
   "source": [
    "# Light GBM Regressor"
   ]
  },
  {
   "cell_type": "code",
   "execution_count": 73,
   "id": "e58adc19",
   "metadata": {
    "id": "e58adc19",
    "outputId": "b2b480a8-02ab-405f-ac6f-92de6f55e430"
   },
   "outputs": [
    {
     "data": {
      "text/plain": [
       "0.8896315370211504"
      ]
     },
     "execution_count": 73,
     "metadata": {},
     "output_type": "execute_result"
    }
   ],
   "source": [
    "lgbm = LGBMRegressor(n_estimators=50,max_depth=6,learning_rate=0.4)\n",
    "lgbm.fit(xtrain,ytrain)\n",
    "ypred_lgbm = lgbm.predict(xtest)\n",
    "r2_score(ytest,ypred_lgbm)"
   ]
  },
  {
   "cell_type": "code",
   "execution_count": 74,
   "id": "634c6189",
   "metadata": {},
   "outputs": [
    {
     "name": "stdout",
     "output_type": "stream",
     "text": [
      "Mean Absolute Error (MAE): 0.603\n",
      "Mean Squared Error (MSE): 0.699\n",
      "Root Mean Squared Error (RMSE): 0.836\n"
     ]
    }
   ],
   "source": [
    "mae = mean_absolute_error(ytest, ypred_lgbm)\n",
    "print(f\"Mean Absolute Error (MAE): {mae:.3f}\")\n",
    "\n",
    "mse = mean_squared_error(ytest, ypred_lgbm)\n",
    "print(f\"Mean Squared Error (MSE): {mse:.3f}\")\n",
    "\n",
    "rmse = mean_squared_error(ytest, ypred_lgbm, squared=False)  \n",
    "print(f\"Root Mean Squared Error (RMSE): {rmse:.3f}\")"
   ]
  },
  {
   "cell_type": "markdown",
   "id": "X2CX0mkEOX6s",
   "metadata": {
    "id": "X2CX0mkEOX6s"
   },
   "source": [
    "# Deployment"
   ]
  },
  {
   "cell_type": "code",
   "execution_count": 75,
   "id": "d681873c",
   "metadata": {
    "ExecuteTime": {
     "end_time": "2023-03-22T09:50:39.961968Z",
     "start_time": "2023-03-22T09:50:39.951492Z"
    },
    "id": "d681873c"
   },
   "outputs": [],
   "source": [
    "import os\n",
    "import pickle as pk"
   ]
  },
  {
   "cell_type": "code",
   "execution_count": 76,
   "id": "ce8b388c",
   "metadata": {
    "ExecuteTime": {
     "end_time": "2023-03-22T09:50:53.326354Z",
     "start_time": "2023-03-22T09:50:53.303220Z"
    },
    "id": "ce8b388c"
   },
   "outputs": [],
   "source": [
    "filename = \"scaled.sav\"\n",
    "pk.dump(sc, open(filename, \"wb\"))\n",
    "loaded_scaler = pk.load(open(\"scaled.sav\", \"rb\"))"
   ]
  },
  {
   "cell_type": "code",
   "execution_count": 77,
   "id": "a75ccd1f",
   "metadata": {
    "ExecuteTime": {
     "end_time": "2023-03-22T09:51:16.602709Z",
     "start_time": "2023-03-22T09:51:16.593238Z"
    },
    "id": "a75ccd1f"
   },
   "outputs": [],
   "source": [
    "trail_inputs = [\"Full-size\",2.4,4,\"A\",6.0,\"Z\"]    # input example"
   ]
  },
  {
   "cell_type": "code",
   "execution_count": 78,
   "id": "82b1f143",
   "metadata": {
    "ExecuteTime": {
     "end_time": "2023-03-22T09:50:54.331240Z",
     "start_time": "2023-03-22T09:50:54.313922Z"
    },
    "id": "82b1f143"
   },
   "outputs": [],
   "source": [
    "filename = \"xgboost.sav\"\n",
    "pk.dump(xg, open(filename, \"wb\"))\n",
    "loaded_model = pk.load(open(\"xgboost.sav\", \"rb\"))"
   ]
  },
  {
   "cell_type": "code",
   "execution_count": 79,
   "id": "747a3cfe",
   "metadata": {
    "ExecuteTime": {
     "end_time": "2023-03-22T09:51:16.911692Z",
     "start_time": "2023-03-22T09:51:16.895512Z"
    },
    "id": "747a3cfe",
    "outputId": "2d36fc47-18b2-4230-df9e-8f60a9065920",
    "scrolled": true
   },
   "outputs": [
    {
     "data": {
      "text/plain": [
       "'The Fuel Consumption L/100km is 11.55'"
      ]
     },
     "execution_count": 79,
     "metadata": {},
     "output_type": "execute_result"
    }
   ],
   "source": [
    "def input_converter(trail_inputs):\n",
    "    vcl = ['Two-seater','Minicompact','Compact','Subcompact','Mid-size','Full-size','SUV: Small','SUV: Standard','Minivan','Station wagon: Small','Station wagon: Mid-size','Pickup truck: Small','Special purpose vehicle','Pickup truck: Standard']\n",
    "    trans = ['AV','AM','M','AS','A']\n",
    "    fuel = [\"D\",\"E\",\"X\",\"Z\"]\n",
    "\n",
    "    def fuel_encoding(fuel_type):\n",
    "        fuel_mapping = {'D': [1, 0, 0, 0], 'E': [0, 1, 0, 0], 'X': [0, 0, 1, 0], 'Z': [0, 0, 0, 1]}\n",
    "        return fuel_mapping.get(fuel_type, [0, 0, 0, 0])\n",
    "\n",
    "    lst = []\n",
    "    for input_item in trail_inputs:\n",
    "        if isinstance(input_item, str):\n",
    "            if input_item in vcl:\n",
    "                lst.append(vcl.index(input_item))\n",
    "            elif input_item in trans:\n",
    "                lst.append(trans.index(input_item))\n",
    "            elif input_item in fuel:\n",
    "                lst.extend(fuel_encoding(input_item))\n",
    "        else:\n",
    "            lst.append(input_item)\n",
    "\n",
    "    arr = np.asarray(lst).reshape(1, -1)\n",
    "    arr = loaded_scaler.transform(arr)\n",
    "    prediction = loaded_model.predict(arr)\n",
    "\n",
    "    return f\"The Fuel Consumption L/100km is {prediction[0]:.2f}\"\n",
    "\n",
    "input_converter(trail_inputs)\n"
   ]
  },
  {
   "cell_type": "code",
   "execution_count": null,
   "id": "264330c8",
   "metadata": {},
   "outputs": [],
   "source": []
  }
 ],
 "metadata": {
  "colab": {
   "provenance": []
  },
  "kernelspec": {
   "display_name": "Python 3 (ipykernel)",
   "language": "python",
   "name": "python3"
  },
  "language_info": {
   "codemirror_mode": {
    "name": "ipython",
    "version": 3
   },
   "file_extension": ".py",
   "mimetype": "text/x-python",
   "name": "python",
   "nbconvert_exporter": "python",
   "pygments_lexer": "ipython3",
   "version": "3.10.10"
  },
  "toc": {
   "base_numbering": 1,
   "nav_menu": {},
   "number_sections": true,
   "sideBar": true,
   "skip_h1_title": false,
   "title_cell": "Table of Contents",
   "title_sidebar": "Contents",
   "toc_cell": false,
   "toc_position": {},
   "toc_section_display": true,
   "toc_window_display": false
  },
  "varInspector": {
   "cols": {
    "lenName": 16,
    "lenType": 16,
    "lenVar": 40
   },
   "kernels_config": {
    "python": {
     "delete_cmd_postfix": "",
     "delete_cmd_prefix": "del ",
     "library": "var_list.py",
     "varRefreshCmd": "print(var_dic_list())"
    },
    "r": {
     "delete_cmd_postfix": ") ",
     "delete_cmd_prefix": "rm(",
     "library": "var_list.r",
     "varRefreshCmd": "cat(var_dic_list()) "
    }
   },
   "types_to_exclude": [
    "module",
    "function",
    "builtin_function_or_method",
    "instance",
    "_Feature"
   ],
   "window_display": false
  }
 },
 "nbformat": 4,
 "nbformat_minor": 5
}
